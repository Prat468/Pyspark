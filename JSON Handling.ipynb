{
 "cells": [
  {
   "cell_type": "code",
   "execution_count": 0,
   "metadata": {
    "application/vnd.databricks.v1+cell": {
     "cellMetadata": {
      "byteLimit": 2048000,
      "rowLimit": 10000
     },
     "inputWidgets": {},
     "nuid": "c40d6350-862e-488b-9650-1e5c8aef7988",
     "showTitle": false,
     "tableResultSettingsMap": {},
     "title": ""
    }
   },
   "outputs": [],
   "source": [
    "# [\n",
    "#   {\n",
    "#     \"id\": 1,\n",
    "#     \"name\": \"Alice\",\n",
    "#     \"address\": {\n",
    "#       \"city\": \"New York\",\n",
    "#       \"zipcode\": \"10001\"\n",
    "#     },\n",
    "#     \"contacts\": [\n",
    "#       {\n",
    "#         \"type\": \"email\",\n",
    "#         \"details\": {\n",
    "#           \"personal\": \"alice@gmail.com\",\n",
    "#           \"work\": \"alice@company.com\"\n",
    "#         }\n",
    "#       },\n",
    "#       {\n",
    "#         \"type\": \"phone\",\n",
    "#         \"details\": {\n",
    "#           \"personal\": \"123-456-7890\",\n",
    "#           \"work\": \"987-654-3210\"\n",
    "#         }\n",
    "#       }\n",
    "#     ],\n",
    "#     \"skills\": [\"Python\", \"Spark\", \"SQL\"],\n",
    "#     \"projects\": [\n",
    "#       {\n",
    "#         \"title\": \"Project A\",\n",
    "#         \"year\": 2022,\n",
    "#         \"tasks\": [\n",
    "#           {\"task_name\": \"ETL\", \"status\": \"completed\"},\n",
    "#           {\"task_name\": \"Data Cleaning\", \"status\": \"in-progress\"}\n",
    "#         ]\n",
    "#       },\n",
    "#       {\n",
    "#         \"title\": \"Project B\",\n",
    "#         \"year\": 2023,\n",
    "#         \"tasks\": [\n",
    "#           {\"task_name\": \"ML Model\", \"status\": \"not started\"}\n",
    "#         ]\n",
    "#       }\n",
    "#     ]\n",
    "#   },\n",
    "#   {\n",
    "#     \"id\": 2,\n",
    "#     \"name\": \"Bob\",\n",
    "#     \"address\": {\n",
    "#       \"city\": \"San Francisco\",\n",
    "#       \"zipcode\": \"94105\"\n",
    "#     },\n",
    "#     \"contacts\": [\n",
    "#       {\n",
    "#         \"type\": \"email\",\n",
    "#         \"details\": {\n",
    "#           \"personal\": \"bob@gmail.com\",\n",
    "#           \"work\": \"bob@company.com\"\n",
    "#         }\n",
    "#       }\n",
    "#     ],\n",
    "#     \"skills\": [\"Java\", \"Scala\"],\n",
    "#     \"projects\": [\n",
    "#       {\n",
    "#         \"title\": \"Project X\",\n",
    "#         \"year\": 2021,\n",
    "#         \"tasks\": [\n",
    "#           {\"task_name\": \"Data Analysis\", \"status\": \"completed\"}\n",
    "#         ]\n",
    "#       }\n",
    "#     ]\n",
    "#   }\n",
    "# ]"
   ]
  },
  {
   "cell_type": "code",
   "execution_count": 0,
   "metadata": {
    "application/vnd.databricks.v1+cell": {
     "cellMetadata": {
      "byteLimit": 2048000,
      "rowLimit": 10000
     },
     "inputWidgets": {},
     "nuid": "7683b565-750f-48bf-8d64-f60b3b165fa3",
     "showTitle": false,
     "tableResultSettingsMap": {},
     "title": ""
    }
   },
   "outputs": [],
   "source": [
    "from pyspark.sql.functions import *"
   ]
  },
  {
   "cell_type": "code",
   "execution_count": 0,
   "metadata": {
    "application/vnd.databricks.v1+cell": {
     "cellMetadata": {
      "byteLimit": 2048000,
      "rowLimit": 10000
     },
     "inputWidgets": {},
     "nuid": "efc9dd64-8f3d-42de-be56-ea70691c2716",
     "showTitle": false,
     "tableResultSettingsMap": {},
     "title": ""
    }
   },
   "outputs": [],
   "source": [
    "df = spark.read.format('json').option('multiLine','true').load('/FileStore/data/complex.json')"
   ]
  },
  {
   "cell_type": "code",
   "execution_count": 0,
   "metadata": {
    "application/vnd.databricks.v1+cell": {
     "cellMetadata": {
      "byteLimit": 2048000,
      "rowLimit": 10000
     },
     "inputWidgets": {},
     "nuid": "ce1861b6-cca6-46de-b773-129602e5ee6a",
     "showTitle": false,
     "tableResultSettingsMap": {},
     "title": ""
    }
   },
   "outputs": [
    {
     "output_type": "display_data",
     "data": {
      "text/html": [
       "<style scoped>\n",
       "  .table-result-container {\n",
       "    max-height: 300px;\n",
       "    overflow: auto;\n",
       "  }\n",
       "  table, th, td {\n",
       "    border: 1px solid black;\n",
       "    border-collapse: collapse;\n",
       "  }\n",
       "  th, td {\n",
       "    padding: 5px;\n",
       "  }\n",
       "  th {\n",
       "    text-align: left;\n",
       "  }\n",
       "</style><div class='table-result-container'><table class='table-result'><thead style='background-color: white'><tr><th>address</th><th>contacts</th><th>id</th><th>name</th><th>projects</th><th>skills</th></tr></thead><tbody><tr><td>List(New York, 10001)</td><td>List(List(List(alice@gmail.com, alice@company.com), email), List(List(123-456-7890, 987-654-3210), phone))</td><td>1</td><td>Alice</td><td>List(List(List(List(completed, ETL), List(in-progress, Data Cleaning)), Project A, 2022), List(List(List(not started, ML Model)), Project B, 2023))</td><td>List(Python, Spark, SQL)</td></tr><tr><td>List(San Francisco, 94105)</td><td>List(List(List(bob@gmail.com, bob@company.com), email))</td><td>2</td><td>Bob</td><td>List(List(List(List(completed, Data Analysis)), Project X, 2021))</td><td>List(Java, Scala)</td></tr></tbody></table></div>"
      ]
     },
     "metadata": {
      "application/vnd.databricks.v1+output": {
       "addedWidgets": {},
       "aggData": [],
       "aggError": "",
       "aggOverflow": false,
       "aggSchema": [],
       "aggSeriesLimitReached": false,
       "aggType": "",
       "arguments": {},
       "columnCustomDisplayInfos": {},
       "data": [
        [
         [
          "New York",
          "10001"
         ],
         [
          [
           [
            "alice@gmail.com",
            "alice@company.com"
           ],
           "email"
          ],
          [
           [
            "123-456-7890",
            "987-654-3210"
           ],
           "phone"
          ]
         ],
         1,
         "Alice",
         [
          [
           [
            [
             "completed",
             "ETL"
            ],
            [
             "in-progress",
             "Data Cleaning"
            ]
           ],
           "Project A",
           2022
          ],
          [
           [
            [
             "not started",
             "ML Model"
            ]
           ],
           "Project B",
           2023
          ]
         ],
         [
          "Python",
          "Spark",
          "SQL"
         ]
        ],
        [
         [
          "San Francisco",
          "94105"
         ],
         [
          [
           [
            "bob@gmail.com",
            "bob@company.com"
           ],
           "email"
          ]
         ],
         2,
         "Bob",
         [
          [
           [
            [
             "completed",
             "Data Analysis"
            ]
           ],
           "Project X",
           2021
          ]
         ],
         [
          "Java",
          "Scala"
         ]
        ]
       ],
       "datasetInfos": [],
       "dbfsResultPath": null,
       "isJsonSchema": true,
       "metadata": {},
       "overflow": false,
       "plotOptions": {
        "customPlotOptions": {},
        "displayType": "table",
        "pivotAggregation": null,
        "pivotColumns": null,
        "xColumns": null,
        "yColumns": null
       },
       "removedWidgets": [],
       "schema": [
        {
         "metadata": "{}",
         "name": "address",
         "type": "{\"type\":\"struct\",\"fields\":[{\"name\":\"city\",\"type\":\"string\",\"nullable\":true,\"metadata\":{}},{\"name\":\"zipcode\",\"type\":\"string\",\"nullable\":true,\"metadata\":{}}]}"
        },
        {
         "metadata": "{}",
         "name": "contacts",
         "type": "{\"type\":\"array\",\"elementType\":{\"type\":\"struct\",\"fields\":[{\"name\":\"details\",\"type\":{\"type\":\"struct\",\"fields\":[{\"name\":\"personal\",\"type\":\"string\",\"nullable\":true,\"metadata\":{}},{\"name\":\"work\",\"type\":\"string\",\"nullable\":true,\"metadata\":{}}]},\"nullable\":true,\"metadata\":{}},{\"name\":\"type\",\"type\":\"string\",\"nullable\":true,\"metadata\":{}}]},\"containsNull\":true}"
        },
        {
         "metadata": "{}",
         "name": "id",
         "type": "\"long\""
        },
        {
         "metadata": "{}",
         "name": "name",
         "type": "\"string\""
        },
        {
         "metadata": "{}",
         "name": "projects",
         "type": "{\"type\":\"array\",\"elementType\":{\"type\":\"struct\",\"fields\":[{\"name\":\"tasks\",\"type\":{\"type\":\"array\",\"elementType\":{\"type\":\"struct\",\"fields\":[{\"name\":\"status\",\"type\":\"string\",\"nullable\":true,\"metadata\":{}},{\"name\":\"task_name\",\"type\":\"string\",\"nullable\":true,\"metadata\":{}}]},\"containsNull\":true},\"nullable\":true,\"metadata\":{}},{\"name\":\"title\",\"type\":\"string\",\"nullable\":true,\"metadata\":{}},{\"name\":\"year\",\"type\":\"long\",\"nullable\":true,\"metadata\":{}}]},\"containsNull\":true}"
        },
        {
         "metadata": "{}",
         "name": "skills",
         "type": "{\"type\":\"array\",\"elementType\":\"string\",\"containsNull\":true}"
        }
       ],
       "type": "table"
      }
     },
     "output_type": "display_data"
    }
   ],
   "source": [
    "df.display()"
   ]
  },
  {
   "cell_type": "code",
   "execution_count": 0,
   "metadata": {
    "application/vnd.databricks.v1+cell": {
     "cellMetadata": {
      "byteLimit": 2048000,
      "rowLimit": 10000
     },
     "inputWidgets": {},
     "nuid": "8228b4ee-1467-4ffe-bf97-cb489e624314",
     "showTitle": false,
     "tableResultSettingsMap": {},
     "title": ""
    }
   },
   "outputs": [
    {
     "output_type": "stream",
     "name": "stdout",
     "output_type": "stream",
     "text": [
      "root\n |-- address: struct (nullable = true)\n |    |-- city: string (nullable = true)\n |    |-- zipcode: string (nullable = true)\n |-- contacts: array (nullable = true)\n |    |-- element: struct (containsNull = true)\n |    |    |-- details: struct (nullable = true)\n |    |    |    |-- personal: string (nullable = true)\n |    |    |    |-- work: string (nullable = true)\n |    |    |-- type: string (nullable = true)\n |-- id: long (nullable = true)\n |-- name: string (nullable = true)\n |-- projects: array (nullable = true)\n |    |-- element: struct (containsNull = true)\n |    |    |-- tasks: array (nullable = true)\n |    |    |    |-- element: struct (containsNull = true)\n |    |    |    |    |-- status: string (nullable = true)\n |    |    |    |    |-- task_name: string (nullable = true)\n |    |    |-- title: string (nullable = true)\n |    |    |-- year: long (nullable = true)\n |-- skills: array (nullable = true)\n |    |-- element: string (containsNull = true)\n\n"
     ]
    }
   ],
   "source": [
    "df.printSchema()"
   ]
  },
  {
   "cell_type": "markdown",
   "metadata": {
    "application/vnd.databricks.v1+cell": {
     "cellMetadata": {
      "byteLimit": 2048000,
      "rowLimit": 10000
     },
     "inputWidgets": {},
     "nuid": "53e545e8-4af0-4f15-b397-7aa18cb49c77",
     "showTitle": false,
     "tableResultSettingsMap": {},
     "title": ""
    }
   },
   "source": [
    "## Idea is if we have a column's datatype is array then will explode it. If it is struct the we can access it directly"
   ]
  },
  {
   "cell_type": "markdown",
   "metadata": {
    "application/vnd.databricks.v1+cell": {
     "cellMetadata": {
      "byteLimit": 2048000,
      "rowLimit": 10000
     },
     "inputWidgets": {},
     "nuid": "84674955-64c1-4656-acc9-39af9d3b4ab6",
     "showTitle": false,
     "tableResultSettingsMap": {},
     "title": ""
    }
   },
   "source": [
    "##### Address"
   ]
  },
  {
   "cell_type": "code",
   "execution_count": 0,
   "metadata": {
    "application/vnd.databricks.v1+cell": {
     "cellMetadata": {
      "byteLimit": 2048000,
      "rowLimit": 10000
     },
     "inputWidgets": {},
     "nuid": "6232558a-ccc0-4205-b09e-590a64e5beaa",
     "showTitle": false,
     "tableResultSettingsMap": {},
     "title": ""
    }
   },
   "outputs": [
    {
     "output_type": "display_data",
     "data": {
      "text/html": [
       "<style scoped>\n",
       "  .table-result-container {\n",
       "    max-height: 300px;\n",
       "    overflow: auto;\n",
       "  }\n",
       "  table, th, td {\n",
       "    border: 1px solid black;\n",
       "    border-collapse: collapse;\n",
       "  }\n",
       "  th, td {\n",
       "    padding: 5px;\n",
       "  }\n",
       "  th {\n",
       "    text-align: left;\n",
       "  }\n",
       "</style><div class='table-result-container'><table class='table-result'><thead style='background-color: white'><tr><th>city</th><th>zipcode</th></tr></thead><tbody><tr><td>New York</td><td>10001</td></tr><tr><td>San Francisco</td><td>94105</td></tr></tbody></table></div>"
      ]
     },
     "metadata": {
      "application/vnd.databricks.v1+output": {
       "addedWidgets": {},
       "aggData": [],
       "aggError": "",
       "aggOverflow": false,
       "aggSchema": [],
       "aggSeriesLimitReached": false,
       "aggType": "",
       "arguments": {},
       "columnCustomDisplayInfos": {},
       "data": [
        [
         "New York",
         "10001"
        ],
        [
         "San Francisco",
         "94105"
        ]
       ],
       "datasetInfos": [],
       "dbfsResultPath": null,
       "isJsonSchema": true,
       "metadata": {},
       "overflow": false,
       "plotOptions": {
        "customPlotOptions": {},
        "displayType": "table",
        "pivotAggregation": null,
        "pivotColumns": null,
        "xColumns": null,
        "yColumns": null
       },
       "removedWidgets": [],
       "schema": [
        {
         "metadata": "{}",
         "name": "city",
         "type": "\"string\""
        },
        {
         "metadata": "{}",
         "name": "zipcode",
         "type": "\"string\""
        }
       ],
       "type": "table"
      }
     },
     "output_type": "display_data"
    }
   ],
   "source": [
    "df.select('address.city','address.zipcode').display()"
   ]
  },
  {
   "cell_type": "markdown",
   "metadata": {
    "application/vnd.databricks.v1+cell": {
     "cellMetadata": {
      "byteLimit": 2048000,
      "rowLimit": 10000
     },
     "inputWidgets": {},
     "nuid": "3a16cc45-eae0-4e07-98a0-c8613198f89e",
     "showTitle": false,
     "tableResultSettingsMap": {},
     "title": ""
    }
   },
   "source": [
    "##### contacts"
   ]
  },
  {
   "cell_type": "code",
   "execution_count": 0,
   "metadata": {
    "application/vnd.databricks.v1+cell": {
     "cellMetadata": {
      "byteLimit": 2048000,
      "rowLimit": 10000
     },
     "inputWidgets": {},
     "nuid": "c8cd9772-a54d-430d-b219-d04866e8c5f5",
     "showTitle": false,
     "tableResultSettingsMap": {},
     "title": ""
    }
   },
   "outputs": [
    {
     "output_type": "stream",
     "name": "stdout",
     "output_type": "stream",
     "text": [
      "root\n |-- address: struct (nullable = true)\n |    |-- city: string (nullable = true)\n |    |-- zipcode: string (nullable = true)\n |-- contacts: array (nullable = true)\n |    |-- element: struct (containsNull = true)\n |    |    |-- details: struct (nullable = true)\n |    |    |    |-- personal: string (nullable = true)\n |    |    |    |-- work: string (nullable = true)\n |    |    |-- type: string (nullable = true)\n |-- id: long (nullable = true)\n |-- name: string (nullable = true)\n |-- projects: array (nullable = true)\n |    |-- element: struct (containsNull = true)\n |    |    |-- tasks: array (nullable = true)\n |    |    |    |-- element: struct (containsNull = true)\n |    |    |    |    |-- status: string (nullable = true)\n |    |    |    |    |-- task_name: string (nullable = true)\n |    |    |-- title: string (nullable = true)\n |    |    |-- year: long (nullable = true)\n |-- skills: array (nullable = true)\n |    |-- element: string (containsNull = true)\n\n"
     ]
    }
   ],
   "source": [
    "df.printSchema()"
   ]
  },
  {
   "cell_type": "code",
   "execution_count": 0,
   "metadata": {
    "application/vnd.databricks.v1+cell": {
     "cellMetadata": {
      "byteLimit": 2048000,
      "rowLimit": 10000
     },
     "inputWidgets": {},
     "nuid": "4da24fb2-ef97-4f6a-a9cd-ced0c8ddb608",
     "showTitle": false,
     "tableResultSettingsMap": {},
     "title": ""
    }
   },
   "outputs": [],
   "source": [
    "df_contacts = df.withColumn('new_contacts',explode(col('contacts'))).select('contacts','new_contacts')"
   ]
  },
  {
   "cell_type": "code",
   "execution_count": 0,
   "metadata": {
    "application/vnd.databricks.v1+cell": {
     "cellMetadata": {
      "byteLimit": 2048000,
      "rowLimit": 10000
     },
     "inputWidgets": {},
     "nuid": "add18c03-5557-41e2-a5a8-8a016e1d7685",
     "showTitle": false,
     "tableResultSettingsMap": {},
     "title": ""
    }
   },
   "outputs": [
    {
     "output_type": "display_data",
     "data": {
      "text/html": [
       "<style scoped>\n",
       "  .table-result-container {\n",
       "    max-height: 300px;\n",
       "    overflow: auto;\n",
       "  }\n",
       "  table, th, td {\n",
       "    border: 1px solid black;\n",
       "    border-collapse: collapse;\n",
       "  }\n",
       "  th, td {\n",
       "    padding: 5px;\n",
       "  }\n",
       "  th {\n",
       "    text-align: left;\n",
       "  }\n",
       "</style><div class='table-result-container'><table class='table-result'><thead style='background-color: white'><tr><th>contacts</th><th>new_contacts</th></tr></thead><tbody><tr><td>List(List(List(alice@gmail.com, alice@company.com), email), List(List(123-456-7890, 987-654-3210), phone))</td><td>List(List(alice@gmail.com, alice@company.com), email)</td></tr><tr><td>List(List(List(alice@gmail.com, alice@company.com), email), List(List(123-456-7890, 987-654-3210), phone))</td><td>List(List(123-456-7890, 987-654-3210), phone)</td></tr><tr><td>List(List(List(bob@gmail.com, bob@company.com), email))</td><td>List(List(bob@gmail.com, bob@company.com), email)</td></tr></tbody></table></div>"
      ]
     },
     "metadata": {
      "application/vnd.databricks.v1+output": {
       "addedWidgets": {},
       "aggData": [],
       "aggError": "",
       "aggOverflow": false,
       "aggSchema": [],
       "aggSeriesLimitReached": false,
       "aggType": "",
       "arguments": {},
       "columnCustomDisplayInfos": {},
       "data": [
        [
         [
          [
           [
            "alice@gmail.com",
            "alice@company.com"
           ],
           "email"
          ],
          [
           [
            "123-456-7890",
            "987-654-3210"
           ],
           "phone"
          ]
         ],
         [
          [
           "alice@gmail.com",
           "alice@company.com"
          ],
          "email"
         ]
        ],
        [
         [
          [
           [
            "alice@gmail.com",
            "alice@company.com"
           ],
           "email"
          ],
          [
           [
            "123-456-7890",
            "987-654-3210"
           ],
           "phone"
          ]
         ],
         [
          [
           "123-456-7890",
           "987-654-3210"
          ],
          "phone"
         ]
        ],
        [
         [
          [
           [
            "bob@gmail.com",
            "bob@company.com"
           ],
           "email"
          ]
         ],
         [
          [
           "bob@gmail.com",
           "bob@company.com"
          ],
          "email"
         ]
        ]
       ],
       "datasetInfos": [],
       "dbfsResultPath": null,
       "isJsonSchema": true,
       "metadata": {},
       "overflow": false,
       "plotOptions": {
        "customPlotOptions": {},
        "displayType": "table",
        "pivotAggregation": null,
        "pivotColumns": null,
        "xColumns": null,
        "yColumns": null
       },
       "removedWidgets": [],
       "schema": [
        {
         "metadata": "{}",
         "name": "contacts",
         "type": "{\"type\":\"array\",\"elementType\":{\"type\":\"struct\",\"fields\":[{\"name\":\"details\",\"type\":{\"type\":\"struct\",\"fields\":[{\"name\":\"personal\",\"type\":\"string\",\"nullable\":true,\"metadata\":{}},{\"name\":\"work\",\"type\":\"string\",\"nullable\":true,\"metadata\":{}}]},\"nullable\":true,\"metadata\":{}},{\"name\":\"type\",\"type\":\"string\",\"nullable\":true,\"metadata\":{}}]},\"containsNull\":true}"
        },
        {
         "metadata": "{}",
         "name": "new_contacts",
         "type": "{\"type\":\"struct\",\"fields\":[{\"name\":\"details\",\"type\":{\"type\":\"struct\",\"fields\":[{\"name\":\"personal\",\"type\":\"string\",\"nullable\":true,\"metadata\":{}},{\"name\":\"work\",\"type\":\"string\",\"nullable\":true,\"metadata\":{}}]},\"nullable\":true,\"metadata\":{}},{\"name\":\"type\",\"type\":\"string\",\"nullable\":true,\"metadata\":{}}]}"
        }
       ],
       "type": "table"
      }
     },
     "output_type": "display_data"
    }
   ],
   "source": [
    "df_contacts.display()"
   ]
  },
  {
   "cell_type": "code",
   "execution_count": 0,
   "metadata": {
    "application/vnd.databricks.v1+cell": {
     "cellMetadata": {
      "byteLimit": 2048000,
      "rowLimit": 10000
     },
     "inputWidgets": {},
     "nuid": "4453cb19-35f3-48bd-9ac3-47be79cf205b",
     "showTitle": false,
     "tableResultSettingsMap": {},
     "title": ""
    }
   },
   "outputs": [
    {
     "output_type": "stream",
     "name": "stdout",
     "output_type": "stream",
     "text": [
      "root\n |-- contacts: array (nullable = true)\n |    |-- element: struct (containsNull = true)\n |    |    |-- details: struct (nullable = true)\n |    |    |    |-- personal: string (nullable = true)\n |    |    |    |-- work: string (nullable = true)\n |    |    |-- type: string (nullable = true)\n |-- new_contacts: struct (nullable = true)\n |    |-- details: struct (nullable = true)\n |    |    |-- personal: string (nullable = true)\n |    |    |-- work: string (nullable = true)\n |    |-- type: string (nullable = true)\n\n"
     ]
    }
   ],
   "source": [
    "df_contacts.printSchema()"
   ]
  },
  {
   "cell_type": "code",
   "execution_count": 0,
   "metadata": {
    "application/vnd.databricks.v1+cell": {
     "cellMetadata": {
      "byteLimit": 2048000,
      "rowLimit": 10000
     },
     "inputWidgets": {},
     "nuid": "81da7baa-60a2-4e9e-b106-803cbe82e09c",
     "showTitle": false,
     "tableResultSettingsMap": {},
     "title": ""
    }
   },
   "outputs": [
    {
     "output_type": "display_data",
     "data": {
      "text/html": [
       "<style scoped>\n",
       "  .table-result-container {\n",
       "    max-height: 300px;\n",
       "    overflow: auto;\n",
       "  }\n",
       "  table, th, td {\n",
       "    border: 1px solid black;\n",
       "    border-collapse: collapse;\n",
       "  }\n",
       "  th, td {\n",
       "    padding: 5px;\n",
       "  }\n",
       "  th {\n",
       "    text-align: left;\n",
       "  }\n",
       "</style><div class='table-result-container'><table class='table-result'><thead style='background-color: white'><tr><th>personal_mail</th><th>work_mail</th><th>type</th></tr></thead><tbody><tr><td>alice@gmail.com</td><td>alice@company.com</td><td>email</td></tr><tr><td>123-456-7890</td><td>987-654-3210</td><td>phone</td></tr><tr><td>bob@gmail.com</td><td>bob@company.com</td><td>email</td></tr></tbody></table></div>"
      ]
     },
     "metadata": {
      "application/vnd.databricks.v1+output": {
       "addedWidgets": {},
       "aggData": [],
       "aggError": "",
       "aggOverflow": false,
       "aggSchema": [],
       "aggSeriesLimitReached": false,
       "aggType": "",
       "arguments": {},
       "columnCustomDisplayInfos": {},
       "data": [
        [
         "alice@gmail.com",
         "alice@company.com",
         "email"
        ],
        [
         "123-456-7890",
         "987-654-3210",
         "phone"
        ],
        [
         "bob@gmail.com",
         "bob@company.com",
         "email"
        ]
       ],
       "datasetInfos": [],
       "dbfsResultPath": null,
       "isJsonSchema": true,
       "metadata": {},
       "overflow": false,
       "plotOptions": {
        "customPlotOptions": {},
        "displayType": "table",
        "pivotAggregation": null,
        "pivotColumns": null,
        "xColumns": null,
        "yColumns": null
       },
       "removedWidgets": [],
       "schema": [
        {
         "metadata": "{}",
         "name": "personal_mail",
         "type": "\"string\""
        },
        {
         "metadata": "{}",
         "name": "work_mail",
         "type": "\"string\""
        },
        {
         "metadata": "{}",
         "name": "type",
         "type": "\"string\""
        }
       ],
       "type": "table"
      }
     },
     "output_type": "display_data"
    }
   ],
   "source": [
    "df_contacts.withColumn('details',df_contacts.new_contacts.details)\\\n",
    "    .withColumn('personal_mail',df_contacts.new_contacts.details.personal)\\\n",
    "    .withColumn('work_mail',df_contacts.new_contacts.details.work)\\\n",
    "    .withColumn('type',df_contacts.new_contacts.type)\\\n",
    "    .drop('contacts','new_contacts','details').display()"
   ]
  },
  {
   "cell_type": "markdown",
   "metadata": {
    "application/vnd.databricks.v1+cell": {
     "cellMetadata": {
      "byteLimit": 2048000,
      "rowLimit": 10000
     },
     "inputWidgets": {},
     "nuid": "f8ab5369-ba70-495c-b096-55d378ada476",
     "showTitle": false,
     "tableResultSettingsMap": {},
     "title": ""
    }
   },
   "source": [
    "##### id, name"
   ]
  },
  {
   "cell_type": "code",
   "execution_count": 0,
   "metadata": {
    "application/vnd.databricks.v1+cell": {
     "cellMetadata": {
      "byteLimit": 2048000,
      "rowLimit": 10000
     },
     "inputWidgets": {},
     "nuid": "925cc4a0-d138-4c7a-a959-c60edb5c0cb3",
     "showTitle": false,
     "tableResultSettingsMap": {},
     "title": ""
    }
   },
   "outputs": [
    {
     "output_type": "stream",
     "name": "stdout",
     "output_type": "stream",
     "text": [
      "root\n |-- address: struct (nullable = true)\n |    |-- city: string (nullable = true)\n |    |-- zipcode: string (nullable = true)\n |-- contacts: array (nullable = true)\n |    |-- element: struct (containsNull = true)\n |    |    |-- details: struct (nullable = true)\n |    |    |    |-- personal: string (nullable = true)\n |    |    |    |-- work: string (nullable = true)\n |    |    |-- type: string (nullable = true)\n |-- id: long (nullable = true)\n |-- name: string (nullable = true)\n |-- projects: array (nullable = true)\n |    |-- element: struct (containsNull = true)\n |    |    |-- tasks: array (nullable = true)\n |    |    |    |-- element: struct (containsNull = true)\n |    |    |    |    |-- status: string (nullable = true)\n |    |    |    |    |-- task_name: string (nullable = true)\n |    |    |-- title: string (nullable = true)\n |    |    |-- year: long (nullable = true)\n |-- skills: array (nullable = true)\n |    |-- element: string (containsNull = true)\n\n"
     ]
    }
   ],
   "source": [
    "df.printSchema()"
   ]
  },
  {
   "cell_type": "code",
   "execution_count": 0,
   "metadata": {
    "application/vnd.databricks.v1+cell": {
     "cellMetadata": {
      "byteLimit": 2048000,
      "rowLimit": 10000
     },
     "inputWidgets": {},
     "nuid": "c210b30f-6883-41c3-a048-0ec3e4be52a1",
     "showTitle": false,
     "tableResultSettingsMap": {},
     "title": ""
    }
   },
   "outputs": [
    {
     "output_type": "display_data",
     "data": {
      "text/html": [
       "<style scoped>\n",
       "  .table-result-container {\n",
       "    max-height: 300px;\n",
       "    overflow: auto;\n",
       "  }\n",
       "  table, th, td {\n",
       "    border: 1px solid black;\n",
       "    border-collapse: collapse;\n",
       "  }\n",
       "  th, td {\n",
       "    padding: 5px;\n",
       "  }\n",
       "  th {\n",
       "    text-align: left;\n",
       "  }\n",
       "</style><div class='table-result-container'><table class='table-result'><thead style='background-color: white'><tr><th>id</th><th>name</th></tr></thead><tbody><tr><td>1</td><td>Alice</td></tr><tr><td>2</td><td>Bob</td></tr></tbody></table></div>"
      ]
     },
     "metadata": {
      "application/vnd.databricks.v1+output": {
       "addedWidgets": {},
       "aggData": [],
       "aggError": "",
       "aggOverflow": false,
       "aggSchema": [],
       "aggSeriesLimitReached": false,
       "aggType": "",
       "arguments": {},
       "columnCustomDisplayInfos": {},
       "data": [
        [
         1,
         "Alice"
        ],
        [
         2,
         "Bob"
        ]
       ],
       "datasetInfos": [],
       "dbfsResultPath": null,
       "isJsonSchema": true,
       "metadata": {},
       "overflow": false,
       "plotOptions": {
        "customPlotOptions": {},
        "displayType": "table",
        "pivotAggregation": null,
        "pivotColumns": null,
        "xColumns": null,
        "yColumns": null
       },
       "removedWidgets": [],
       "schema": [
        {
         "metadata": "{}",
         "name": "id",
         "type": "\"long\""
        },
        {
         "metadata": "{}",
         "name": "name",
         "type": "\"string\""
        }
       ],
       "type": "table"
      }
     },
     "output_type": "display_data"
    }
   ],
   "source": [
    "df.select('id','name').display()"
   ]
  },
  {
   "cell_type": "markdown",
   "metadata": {
    "application/vnd.databricks.v1+cell": {
     "cellMetadata": {
      "byteLimit": 2048000,
      "rowLimit": 10000
     },
     "inputWidgets": {},
     "nuid": "1a319e62-582d-4343-b6f4-d4a230df98ea",
     "showTitle": false,
     "tableResultSettingsMap": {},
     "title": ""
    }
   },
   "source": [
    "##### projects"
   ]
  },
  {
   "cell_type": "code",
   "execution_count": 0,
   "metadata": {
    "application/vnd.databricks.v1+cell": {
     "cellMetadata": {
      "byteLimit": 2048000,
      "rowLimit": 10000
     },
     "inputWidgets": {},
     "nuid": "1e2f3981-36c8-4acb-927b-27021151294b",
     "showTitle": false,
     "tableResultSettingsMap": {},
     "title": ""
    }
   },
   "outputs": [
    {
     "output_type": "stream",
     "name": "stdout",
     "output_type": "stream",
     "text": [
      "root\n |-- address: struct (nullable = true)\n |    |-- city: string (nullable = true)\n |    |-- zipcode: string (nullable = true)\n |-- contacts: array (nullable = true)\n |    |-- element: struct (containsNull = true)\n |    |    |-- details: struct (nullable = true)\n |    |    |    |-- personal: string (nullable = true)\n |    |    |    |-- work: string (nullable = true)\n |    |    |-- type: string (nullable = true)\n |-- id: long (nullable = true)\n |-- name: string (nullable = true)\n |-- projects: array (nullable = true)\n |    |-- element: struct (containsNull = true)\n |    |    |-- tasks: array (nullable = true)\n |    |    |    |-- element: struct (containsNull = true)\n |    |    |    |    |-- status: string (nullable = true)\n |    |    |    |    |-- task_name: string (nullable = true)\n |    |    |-- title: string (nullable = true)\n |    |    |-- year: long (nullable = true)\n |-- skills: array (nullable = true)\n |    |-- element: string (containsNull = true)\n\n"
     ]
    }
   ],
   "source": [
    "df.printSchema()"
   ]
  },
  {
   "cell_type": "code",
   "execution_count": 0,
   "metadata": {
    "application/vnd.databricks.v1+cell": {
     "cellMetadata": {
      "byteLimit": 2048000,
      "rowLimit": 10000
     },
     "inputWidgets": {},
     "nuid": "02b49c86-c7ee-4513-a00f-bfc08eb15f9f",
     "showTitle": false,
     "tableResultSettingsMap": {},
     "title": ""
    }
   },
   "outputs": [
    {
     "output_type": "display_data",
     "data": {
      "text/html": [
       "<style scoped>\n",
       "  .table-result-container {\n",
       "    max-height: 300px;\n",
       "    overflow: auto;\n",
       "  }\n",
       "  table, th, td {\n",
       "    border: 1px solid black;\n",
       "    border-collapse: collapse;\n",
       "  }\n",
       "  th, td {\n",
       "    padding: 5px;\n",
       "  }\n",
       "  th {\n",
       "    text-align: left;\n",
       "  }\n",
       "</style><div class='table-result-container'><table class='table-result'><thead style='background-color: white'><tr><th>projects</th></tr></thead><tbody><tr><td>List(List(List(List(completed, ETL), List(in-progress, Data Cleaning)), Project A, 2022), List(List(List(not started, ML Model)), Project B, 2023))</td></tr><tr><td>List(List(List(List(completed, Data Analysis)), Project X, 2021))</td></tr></tbody></table></div>"
      ]
     },
     "metadata": {
      "application/vnd.databricks.v1+output": {
       "addedWidgets": {},
       "aggData": [],
       "aggError": "",
       "aggOverflow": false,
       "aggSchema": [],
       "aggSeriesLimitReached": false,
       "aggType": "",
       "arguments": {},
       "columnCustomDisplayInfos": {},
       "data": [
        [
         [
          [
           [
            [
             "completed",
             "ETL"
            ],
            [
             "in-progress",
             "Data Cleaning"
            ]
           ],
           "Project A",
           2022
          ],
          [
           [
            [
             "not started",
             "ML Model"
            ]
           ],
           "Project B",
           2023
          ]
         ]
        ],
        [
         [
          [
           [
            [
             "completed",
             "Data Analysis"
            ]
           ],
           "Project X",
           2021
          ]
         ]
        ]
       ],
       "datasetInfos": [],
       "dbfsResultPath": null,
       "isJsonSchema": true,
       "metadata": {},
       "overflow": false,
       "plotOptions": {
        "customPlotOptions": {},
        "displayType": "table",
        "pivotAggregation": null,
        "pivotColumns": null,
        "xColumns": null,
        "yColumns": null
       },
       "removedWidgets": [],
       "schema": [
        {
         "metadata": "{}",
         "name": "projects",
         "type": "{\"type\":\"array\",\"elementType\":{\"type\":\"struct\",\"fields\":[{\"name\":\"tasks\",\"type\":{\"type\":\"array\",\"elementType\":{\"type\":\"struct\",\"fields\":[{\"name\":\"status\",\"type\":\"string\",\"nullable\":true,\"metadata\":{}},{\"name\":\"task_name\",\"type\":\"string\",\"nullable\":true,\"metadata\":{}}]},\"containsNull\":true},\"nullable\":true,\"metadata\":{}},{\"name\":\"title\",\"type\":\"string\",\"nullable\":true,\"metadata\":{}},{\"name\":\"year\",\"type\":\"long\",\"nullable\":true,\"metadata\":{}}]},\"containsNull\":true}"
        }
       ],
       "type": "table"
      }
     },
     "output_type": "display_data"
    }
   ],
   "source": [
    "df.select('projects').display()"
   ]
  },
  {
   "cell_type": "code",
   "execution_count": 0,
   "metadata": {
    "application/vnd.databricks.v1+cell": {
     "cellMetadata": {
      "byteLimit": 2048000,
      "rowLimit": 10000
     },
     "inputWidgets": {},
     "nuid": "5c819efa-bf1d-4615-9a1b-dea0f44970c8",
     "showTitle": false,
     "tableResultSettingsMap": {},
     "title": ""
    }
   },
   "outputs": [
    {
     "output_type": "display_data",
     "data": {
      "text/html": [
       "<style scoped>\n",
       "  .table-result-container {\n",
       "    max-height: 300px;\n",
       "    overflow: auto;\n",
       "  }\n",
       "  table, th, td {\n",
       "    border: 1px solid black;\n",
       "    border-collapse: collapse;\n",
       "  }\n",
       "  th, td {\n",
       "    padding: 5px;\n",
       "  }\n",
       "  th {\n",
       "    text-align: left;\n",
       "  }\n",
       "</style><div class='table-result-container'><table class='table-result'><thead style='background-color: white'><tr><th>projects</th><th>new_projects</th></tr></thead><tbody><tr><td>List(List(List(List(completed, ETL), List(in-progress, Data Cleaning)), Project A, 2022), List(List(List(not started, ML Model)), Project B, 2023))</td><td>List(List(List(completed, ETL), List(in-progress, Data Cleaning)), Project A, 2022)</td></tr><tr><td>List(List(List(List(completed, ETL), List(in-progress, Data Cleaning)), Project A, 2022), List(List(List(not started, ML Model)), Project B, 2023))</td><td>List(List(List(not started, ML Model)), Project B, 2023)</td></tr><tr><td>List(List(List(List(completed, Data Analysis)), Project X, 2021))</td><td>List(List(List(completed, Data Analysis)), Project X, 2021)</td></tr></tbody></table></div>"
      ]
     },
     "metadata": {
      "application/vnd.databricks.v1+output": {
       "addedWidgets": {},
       "aggData": [],
       "aggError": "",
       "aggOverflow": false,
       "aggSchema": [],
       "aggSeriesLimitReached": false,
       "aggType": "",
       "arguments": {},
       "columnCustomDisplayInfos": {},
       "data": [
        [
         [
          [
           [
            [
             "completed",
             "ETL"
            ],
            [
             "in-progress",
             "Data Cleaning"
            ]
           ],
           "Project A",
           2022
          ],
          [
           [
            [
             "not started",
             "ML Model"
            ]
           ],
           "Project B",
           2023
          ]
         ],
         [
          [
           [
            "completed",
            "ETL"
           ],
           [
            "in-progress",
            "Data Cleaning"
           ]
          ],
          "Project A",
          2022
         ]
        ],
        [
         [
          [
           [
            [
             "completed",
             "ETL"
            ],
            [
             "in-progress",
             "Data Cleaning"
            ]
           ],
           "Project A",
           2022
          ],
          [
           [
            [
             "not started",
             "ML Model"
            ]
           ],
           "Project B",
           2023
          ]
         ],
         [
          [
           [
            "not started",
            "ML Model"
           ]
          ],
          "Project B",
          2023
         ]
        ],
        [
         [
          [
           [
            [
             "completed",
             "Data Analysis"
            ]
           ],
           "Project X",
           2021
          ]
         ],
         [
          [
           [
            "completed",
            "Data Analysis"
           ]
          ],
          "Project X",
          2021
         ]
        ]
       ],
       "datasetInfos": [],
       "dbfsResultPath": null,
       "isJsonSchema": true,
       "metadata": {},
       "overflow": false,
       "plotOptions": {
        "customPlotOptions": {},
        "displayType": "table",
        "pivotAggregation": null,
        "pivotColumns": null,
        "xColumns": null,
        "yColumns": null
       },
       "removedWidgets": [],
       "schema": [
        {
         "metadata": "{}",
         "name": "projects",
         "type": "{\"type\":\"array\",\"elementType\":{\"type\":\"struct\",\"fields\":[{\"name\":\"tasks\",\"type\":{\"type\":\"array\",\"elementType\":{\"type\":\"struct\",\"fields\":[{\"name\":\"status\",\"type\":\"string\",\"nullable\":true,\"metadata\":{}},{\"name\":\"task_name\",\"type\":\"string\",\"nullable\":true,\"metadata\":{}}]},\"containsNull\":true},\"nullable\":true,\"metadata\":{}},{\"name\":\"title\",\"type\":\"string\",\"nullable\":true,\"metadata\":{}},{\"name\":\"year\",\"type\":\"long\",\"nullable\":true,\"metadata\":{}}]},\"containsNull\":true}"
        },
        {
         "metadata": "{}",
         "name": "new_projects",
         "type": "{\"type\":\"struct\",\"fields\":[{\"name\":\"tasks\",\"type\":{\"type\":\"array\",\"elementType\":{\"type\":\"struct\",\"fields\":[{\"name\":\"status\",\"type\":\"string\",\"nullable\":true,\"metadata\":{}},{\"name\":\"task_name\",\"type\":\"string\",\"nullable\":true,\"metadata\":{}}]},\"containsNull\":true},\"nullable\":true,\"metadata\":{}},{\"name\":\"title\",\"type\":\"string\",\"nullable\":true,\"metadata\":{}},{\"name\":\"year\",\"type\":\"long\",\"nullable\":true,\"metadata\":{}}]}"
        }
       ],
       "type": "table"
      }
     },
     "output_type": "display_data"
    }
   ],
   "source": [
    "df_projects = df.withColumn('new_projects', explode(col('projects'))).select('projects','new_projects')\n",
    "df_projects.display()"
   ]
  },
  {
   "cell_type": "code",
   "execution_count": 0,
   "metadata": {
    "application/vnd.databricks.v1+cell": {
     "cellMetadata": {
      "byteLimit": 2048000,
      "rowLimit": 10000
     },
     "inputWidgets": {},
     "nuid": "51c5d575-fbbb-47c2-aa60-c38b59c57794",
     "showTitle": false,
     "tableResultSettingsMap": {},
     "title": ""
    }
   },
   "outputs": [
    {
     "output_type": "stream",
     "name": "stdout",
     "output_type": "stream",
     "text": [
      "root\n |-- projects: array (nullable = true)\n |    |-- element: struct (containsNull = true)\n |    |    |-- tasks: array (nullable = true)\n |    |    |    |-- element: struct (containsNull = true)\n |    |    |    |    |-- status: string (nullable = true)\n |    |    |    |    |-- task_name: string (nullable = true)\n |    |    |-- title: string (nullable = true)\n |    |    |-- year: long (nullable = true)\n |-- new_projects: struct (nullable = true)\n |    |-- tasks: array (nullable = true)\n |    |    |-- element: struct (containsNull = true)\n |    |    |    |-- status: string (nullable = true)\n |    |    |    |-- task_name: string (nullable = true)\n |    |-- title: string (nullable = true)\n |    |-- year: long (nullable = true)\n\n"
     ]
    }
   ],
   "source": [
    "df_projects.printSchema()"
   ]
  },
  {
   "cell_type": "code",
   "execution_count": 0,
   "metadata": {
    "application/vnd.databricks.v1+cell": {
     "cellMetadata": {
      "byteLimit": 2048000,
      "rowLimit": 10000
     },
     "inputWidgets": {},
     "nuid": "c1f4b500-cf10-43e1-9aca-3b27864322cf",
     "showTitle": false,
     "tableResultSettingsMap": {},
     "title": ""
    }
   },
   "outputs": [
    {
     "output_type": "display_data",
     "data": {
      "text/html": [
       "<style scoped>\n",
       "  .table-result-container {\n",
       "    max-height: 300px;\n",
       "    overflow: auto;\n",
       "  }\n",
       "  table, th, td {\n",
       "    border: 1px solid black;\n",
       "    border-collapse: collapse;\n",
       "  }\n",
       "  th, td {\n",
       "    padding: 5px;\n",
       "  }\n",
       "  th {\n",
       "    text-align: left;\n",
       "  }\n",
       "</style><div class='table-result-container'><table class='table-result'><thead style='background-color: white'><tr><th>title</th><th>year</th></tr></thead><tbody><tr><td>Project A</td><td>2022</td></tr><tr><td>Project B</td><td>2023</td></tr><tr><td>Project X</td><td>2021</td></tr></tbody></table></div>"
      ]
     },
     "metadata": {
      "application/vnd.databricks.v1+output": {
       "addedWidgets": {},
       "aggData": [],
       "aggError": "",
       "aggOverflow": false,
       "aggSchema": [],
       "aggSeriesLimitReached": false,
       "aggType": "",
       "arguments": {},
       "columnCustomDisplayInfos": {},
       "data": [
        [
         "Project A",
         2022
        ],
        [
         "Project B",
         2023
        ],
        [
         "Project X",
         2021
        ]
       ],
       "datasetInfos": [],
       "dbfsResultPath": null,
       "isJsonSchema": true,
       "metadata": {},
       "overflow": false,
       "plotOptions": {
        "customPlotOptions": {},
        "displayType": "table",
        "pivotAggregation": null,
        "pivotColumns": null,
        "xColumns": null,
        "yColumns": null
       },
       "removedWidgets": [],
       "schema": [
        {
         "metadata": "{}",
         "name": "title",
         "type": "\"string\""
        },
        {
         "metadata": "{}",
         "name": "year",
         "type": "\"long\""
        }
       ],
       "type": "table"
      }
     },
     "output_type": "display_data"
    }
   ],
   "source": [
    "df_projects.select('new_projects.title','new_projects.year').display()"
   ]
  },
  {
   "cell_type": "code",
   "execution_count": 0,
   "metadata": {
    "application/vnd.databricks.v1+cell": {
     "cellMetadata": {
      "byteLimit": 2048000,
      "rowLimit": 10000
     },
     "inputWidgets": {},
     "nuid": "2197baec-a0ff-4e31-bee1-ef9184475d6d",
     "showTitle": false,
     "tableResultSettingsMap": {},
     "title": ""
    }
   },
   "outputs": [],
   "source": [
    "df_tasks = df_projects.select('new_projects.tasks')"
   ]
  },
  {
   "cell_type": "code",
   "execution_count": 0,
   "metadata": {
    "application/vnd.databricks.v1+cell": {
     "cellMetadata": {
      "byteLimit": 2048000,
      "rowLimit": 10000
     },
     "inputWidgets": {},
     "nuid": "daadf26d-6510-4967-99c8-0d27c674e630",
     "showTitle": false,
     "tableResultSettingsMap": {},
     "title": ""
    }
   },
   "outputs": [],
   "source": [
    "df_tasks_new = df_tasks.withColumn('new_tasks',explode(col('tasks')))"
   ]
  },
  {
   "cell_type": "code",
   "execution_count": 0,
   "metadata": {
    "application/vnd.databricks.v1+cell": {
     "cellMetadata": {
      "byteLimit": 2048000,
      "rowLimit": 10000
     },
     "inputWidgets": {},
     "nuid": "0560aaf7-d729-4ff0-8ce2-61dc6eb88876",
     "showTitle": false,
     "tableResultSettingsMap": {},
     "title": ""
    }
   },
   "outputs": [
    {
     "output_type": "display_data",
     "data": {
      "text/html": [
       "<style scoped>\n",
       "  .table-result-container {\n",
       "    max-height: 300px;\n",
       "    overflow: auto;\n",
       "  }\n",
       "  table, th, td {\n",
       "    border: 1px solid black;\n",
       "    border-collapse: collapse;\n",
       "  }\n",
       "  th, td {\n",
       "    padding: 5px;\n",
       "  }\n",
       "  th {\n",
       "    text-align: left;\n",
       "  }\n",
       "</style><div class='table-result-container'><table class='table-result'><thead style='background-color: white'><tr><th>status</th><th>task_name</th></tr></thead><tbody><tr><td>completed</td><td>ETL</td></tr><tr><td>in-progress</td><td>Data Cleaning</td></tr><tr><td>not started</td><td>ML Model</td></tr><tr><td>completed</td><td>Data Analysis</td></tr></tbody></table></div>"
      ]
     },
     "metadata": {
      "application/vnd.databricks.v1+output": {
       "addedWidgets": {},
       "aggData": [],
       "aggError": "",
       "aggOverflow": false,
       "aggSchema": [],
       "aggSeriesLimitReached": false,
       "aggType": "",
       "arguments": {},
       "columnCustomDisplayInfos": {},
       "data": [
        [
         "completed",
         "ETL"
        ],
        [
         "in-progress",
         "Data Cleaning"
        ],
        [
         "not started",
         "ML Model"
        ],
        [
         "completed",
         "Data Analysis"
        ]
       ],
       "datasetInfos": [],
       "dbfsResultPath": null,
       "isJsonSchema": true,
       "metadata": {},
       "overflow": false,
       "plotOptions": {
        "customPlotOptions": {},
        "displayType": "table",
        "pivotAggregation": null,
        "pivotColumns": null,
        "xColumns": null,
        "yColumns": null
       },
       "removedWidgets": [],
       "schema": [
        {
         "metadata": "{}",
         "name": "status",
         "type": "\"string\""
        },
        {
         "metadata": "{}",
         "name": "task_name",
         "type": "\"string\""
        }
       ],
       "type": "table"
      }
     },
     "output_type": "display_data"
    }
   ],
   "source": [
    "df_tasks_new.withColumn('status',df_tasks_new.new_tasks.status)\\\n",
    "    .withColumn('task_name',df_tasks_new.new_tasks.task_name)\\\n",
    "    .drop('tasks','new_tasks').display()"
   ]
  },
  {
   "cell_type": "code",
   "execution_count": 0,
   "metadata": {
    "application/vnd.databricks.v1+cell": {
     "cellMetadata": {
      "byteLimit": 2048000,
      "rowLimit": 10000
     },
     "inputWidgets": {},
     "nuid": "4b621c17-2a6a-43c1-9805-35fef5a486d1",
     "showTitle": false,
     "tableResultSettingsMap": {},
     "title": ""
    }
   },
   "outputs": [
    {
     "output_type": "stream",
     "name": "stdout",
     "output_type": "stream",
     "text": [
      "root\n |-- address: struct (nullable = true)\n |    |-- city: string (nullable = true)\n |    |-- zipcode: string (nullable = true)\n |-- contacts: array (nullable = true)\n |    |-- element: struct (containsNull = true)\n |    |    |-- details: struct (nullable = true)\n |    |    |    |-- personal: string (nullable = true)\n |    |    |    |-- work: string (nullable = true)\n |    |    |-- type: string (nullable = true)\n |-- id: long (nullable = true)\n |-- name: string (nullable = true)\n |-- projects: array (nullable = true)\n |    |-- element: struct (containsNull = true)\n |    |    |-- tasks: array (nullable = true)\n |    |    |    |-- element: struct (containsNull = true)\n |    |    |    |    |-- status: string (nullable = true)\n |    |    |    |    |-- task_name: string (nullable = true)\n |    |    |-- title: string (nullable = true)\n |    |    |-- year: long (nullable = true)\n |-- skills: array (nullable = true)\n |    |-- element: string (containsNull = true)\n\n"
     ]
    }
   ],
   "source": [
    "df.printSchema()"
   ]
  },
  {
   "cell_type": "code",
   "execution_count": 0,
   "metadata": {
    "application/vnd.databricks.v1+cell": {
     "cellMetadata": {
      "byteLimit": 2048000,
      "rowLimit": 10000
     },
     "inputWidgets": {},
     "nuid": "934855c6-2423-40e0-b30b-9b9c165f6901",
     "showTitle": false,
     "tableResultSettingsMap": {},
     "title": ""
    }
   },
   "outputs": [],
   "source": [
    "df_skills = df.withColumn('new_skills',explode('skills')).select('skills','new_skills')"
   ]
  },
  {
   "cell_type": "code",
   "execution_count": 0,
   "metadata": {
    "application/vnd.databricks.v1+cell": {
     "cellMetadata": {
      "byteLimit": 2048000,
      "rowLimit": 10000
     },
     "inputWidgets": {},
     "nuid": "ff83b886-295e-4a3d-a46d-a13996c02e7f",
     "showTitle": false,
     "tableResultSettingsMap": {},
     "title": ""
    }
   },
   "outputs": [
    {
     "output_type": "display_data",
     "data": {
      "text/html": [
       "<style scoped>\n",
       "  .table-result-container {\n",
       "    max-height: 300px;\n",
       "    overflow: auto;\n",
       "  }\n",
       "  table, th, td {\n",
       "    border: 1px solid black;\n",
       "    border-collapse: collapse;\n",
       "  }\n",
       "  th, td {\n",
       "    padding: 5px;\n",
       "  }\n",
       "  th {\n",
       "    text-align: left;\n",
       "  }\n",
       "</style><div class='table-result-container'><table class='table-result'><thead style='background-color: white'><tr><th>skills</th><th>new_skills</th></tr></thead><tbody><tr><td>List(Python, Spark, SQL)</td><td>Python</td></tr><tr><td>List(Python, Spark, SQL)</td><td>Spark</td></tr><tr><td>List(Python, Spark, SQL)</td><td>SQL</td></tr><tr><td>List(Java, Scala)</td><td>Java</td></tr><tr><td>List(Java, Scala)</td><td>Scala</td></tr></tbody></table></div>"
      ]
     },
     "metadata": {
      "application/vnd.databricks.v1+output": {
       "addedWidgets": {},
       "aggData": [],
       "aggError": "",
       "aggOverflow": false,
       "aggSchema": [],
       "aggSeriesLimitReached": false,
       "aggType": "",
       "arguments": {},
       "columnCustomDisplayInfos": {},
       "data": [
        [
         [
          "Python",
          "Spark",
          "SQL"
         ],
         "Python"
        ],
        [
         [
          "Python",
          "Spark",
          "SQL"
         ],
         "Spark"
        ],
        [
         [
          "Python",
          "Spark",
          "SQL"
         ],
         "SQL"
        ],
        [
         [
          "Java",
          "Scala"
         ],
         "Java"
        ],
        [
         [
          "Java",
          "Scala"
         ],
         "Scala"
        ]
       ],
       "datasetInfos": [],
       "dbfsResultPath": null,
       "isJsonSchema": true,
       "metadata": {},
       "overflow": false,
       "plotOptions": {
        "customPlotOptions": {},
        "displayType": "table",
        "pivotAggregation": null,
        "pivotColumns": null,
        "xColumns": null,
        "yColumns": null
       },
       "removedWidgets": [],
       "schema": [
        {
         "metadata": "{}",
         "name": "skills",
         "type": "{\"type\":\"array\",\"elementType\":\"string\",\"containsNull\":true}"
        },
        {
         "metadata": "{}",
         "name": "new_skills",
         "type": "\"string\""
        }
       ],
       "type": "table"
      }
     },
     "output_type": "display_data"
    }
   ],
   "source": [
    "df_skills.display()"
   ]
  },
  {
   "cell_type": "markdown",
   "metadata": {
    "application/vnd.databricks.v1+cell": {
     "cellMetadata": {
      "byteLimit": 2048000,
      "rowLimit": 10000
     },
     "inputWidgets": {},
     "nuid": "ff8f231f-4f2e-4bfc-972b-cc05af5ab0d5",
     "showTitle": false,
     "tableResultSettingsMap": {},
     "title": ""
    }
   },
   "source": [
    "## Let's combine in one go"
   ]
  },
  {
   "cell_type": "code",
   "execution_count": 0,
   "metadata": {
    "application/vnd.databricks.v1+cell": {
     "cellMetadata": {
      "byteLimit": 2048000,
      "rowLimit": 10000
     },
     "inputWidgets": {},
     "nuid": "d18439b3-aba2-4c88-b902-6232139789e8",
     "showTitle": false,
     "tableResultSettingsMap": {},
     "title": ""
    }
   },
   "outputs": [
    {
     "output_type": "display_data",
     "data": {
      "text/html": [
       "<style scoped>\n",
       "  .table-result-container {\n",
       "    max-height: 300px;\n",
       "    overflow: auto;\n",
       "  }\n",
       "  table, th, td {\n",
       "    border: 1px solid black;\n",
       "    border-collapse: collapse;\n",
       "  }\n",
       "  th, td {\n",
       "    padding: 5px;\n",
       "  }\n",
       "  th {\n",
       "    text-align: left;\n",
       "  }\n",
       "</style><div class='table-result-container'><table class='table-result'><thead style='background-color: white'><tr><th>address</th><th>contacts</th><th>id</th><th>name</th><th>projects</th><th>skills</th></tr></thead><tbody><tr><td>List(New York, 10001)</td><td>List(List(List(alice@gmail.com, alice@company.com), email), List(List(123-456-7890, 987-654-3210), phone))</td><td>1</td><td>Alice</td><td>List(List(List(List(completed, ETL), List(in-progress, Data Cleaning)), Project A, 2022), List(List(List(not started, ML Model)), Project B, 2023))</td><td>List(Python, Spark, SQL)</td></tr><tr><td>List(San Francisco, 94105)</td><td>List(List(List(bob@gmail.com, bob@company.com), email))</td><td>2</td><td>Bob</td><td>List(List(List(List(completed, Data Analysis)), Project X, 2021))</td><td>List(Java, Scala)</td></tr></tbody></table></div>"
      ]
     },
     "metadata": {
      "application/vnd.databricks.v1+output": {
       "addedWidgets": {},
       "aggData": [],
       "aggError": "",
       "aggOverflow": false,
       "aggSchema": [],
       "aggSeriesLimitReached": false,
       "aggType": "",
       "arguments": {},
       "columnCustomDisplayInfos": {},
       "data": [
        [
         [
          "New York",
          "10001"
         ],
         [
          [
           [
            "alice@gmail.com",
            "alice@company.com"
           ],
           "email"
          ],
          [
           [
            "123-456-7890",
            "987-654-3210"
           ],
           "phone"
          ]
         ],
         1,
         "Alice",
         [
          [
           [
            [
             "completed",
             "ETL"
            ],
            [
             "in-progress",
             "Data Cleaning"
            ]
           ],
           "Project A",
           2022
          ],
          [
           [
            [
             "not started",
             "ML Model"
            ]
           ],
           "Project B",
           2023
          ]
         ],
         [
          "Python",
          "Spark",
          "SQL"
         ]
        ],
        [
         [
          "San Francisco",
          "94105"
         ],
         [
          [
           [
            "bob@gmail.com",
            "bob@company.com"
           ],
           "email"
          ]
         ],
         2,
         "Bob",
         [
          [
           [
            [
             "completed",
             "Data Analysis"
            ]
           ],
           "Project X",
           2021
          ]
         ],
         [
          "Java",
          "Scala"
         ]
        ]
       ],
       "datasetInfos": [],
       "dbfsResultPath": null,
       "isJsonSchema": true,
       "metadata": {},
       "overflow": false,
       "plotOptions": {
        "customPlotOptions": {},
        "displayType": "table",
        "pivotAggregation": null,
        "pivotColumns": null,
        "xColumns": null,
        "yColumns": null
       },
       "removedWidgets": [],
       "schema": [
        {
         "metadata": "{}",
         "name": "address",
         "type": "{\"type\":\"struct\",\"fields\":[{\"name\":\"city\",\"type\":\"string\",\"nullable\":true,\"metadata\":{}},{\"name\":\"zipcode\",\"type\":\"string\",\"nullable\":true,\"metadata\":{}}]}"
        },
        {
         "metadata": "{}",
         "name": "contacts",
         "type": "{\"type\":\"array\",\"elementType\":{\"type\":\"struct\",\"fields\":[{\"name\":\"details\",\"type\":{\"type\":\"struct\",\"fields\":[{\"name\":\"personal\",\"type\":\"string\",\"nullable\":true,\"metadata\":{}},{\"name\":\"work\",\"type\":\"string\",\"nullable\":true,\"metadata\":{}}]},\"nullable\":true,\"metadata\":{}},{\"name\":\"type\",\"type\":\"string\",\"nullable\":true,\"metadata\":{}}]},\"containsNull\":true}"
        },
        {
         "metadata": "{}",
         "name": "id",
         "type": "\"long\""
        },
        {
         "metadata": "{}",
         "name": "name",
         "type": "\"string\""
        },
        {
         "metadata": "{}",
         "name": "projects",
         "type": "{\"type\":\"array\",\"elementType\":{\"type\":\"struct\",\"fields\":[{\"name\":\"tasks\",\"type\":{\"type\":\"array\",\"elementType\":{\"type\":\"struct\",\"fields\":[{\"name\":\"status\",\"type\":\"string\",\"nullable\":true,\"metadata\":{}},{\"name\":\"task_name\",\"type\":\"string\",\"nullable\":true,\"metadata\":{}}]},\"containsNull\":true},\"nullable\":true,\"metadata\":{}},{\"name\":\"title\",\"type\":\"string\",\"nullable\":true,\"metadata\":{}},{\"name\":\"year\",\"type\":\"long\",\"nullable\":true,\"metadata\":{}}]},\"containsNull\":true}"
        },
        {
         "metadata": "{}",
         "name": "skills",
         "type": "{\"type\":\"array\",\"elementType\":\"string\",\"containsNull\":true}"
        }
       ],
       "type": "table"
      }
     },
     "output_type": "display_data"
    }
   ],
   "source": [
    "df.display()"
   ]
  },
  {
   "cell_type": "code",
   "execution_count": 0,
   "metadata": {
    "application/vnd.databricks.v1+cell": {
     "cellMetadata": {
      "byteLimit": 2048000,
      "rowLimit": 10000
     },
     "inputWidgets": {},
     "nuid": "d4e3cfb7-a756-4a0d-9d5f-619e0b67f166",
     "showTitle": false,
     "tableResultSettingsMap": {},
     "title": ""
    }
   },
   "outputs": [
    {
     "output_type": "stream",
     "name": "stdout",
     "output_type": "stream",
     "text": [
      "root\n |-- address: struct (nullable = true)\n |    |-- city: string (nullable = true)\n |    |-- zipcode: string (nullable = true)\n |-- contacts: array (nullable = true)\n |    |-- element: struct (containsNull = true)\n |    |    |-- details: struct (nullable = true)\n |    |    |    |-- personal: string (nullable = true)\n |    |    |    |-- work: string (nullable = true)\n |    |    |-- type: string (nullable = true)\n |-- id: long (nullable = true)\n |-- name: string (nullable = true)\n |-- projects: array (nullable = true)\n |    |-- element: struct (containsNull = true)\n |    |    |-- tasks: array (nullable = true)\n |    |    |    |-- element: struct (containsNull = true)\n |    |    |    |    |-- status: string (nullable = true)\n |    |    |    |    |-- task_name: string (nullable = true)\n |    |    |-- title: string (nullable = true)\n |    |    |-- year: long (nullable = true)\n |-- skills: array (nullable = true)\n |    |-- element: string (containsNull = true)\n\n"
     ]
    }
   ],
   "source": [
    "df.printSchema()"
   ]
  },
  {
   "cell_type": "code",
   "execution_count": 0,
   "metadata": {
    "application/vnd.databricks.v1+cell": {
     "cellMetadata": {
      "byteLimit": 2048000,
      "rowLimit": 10000
     },
     "collapsed": true,
     "inputWidgets": {},
     "nuid": "879c6f0b-e2e4-45f9-8d98-975bb8c3ca9c",
     "showTitle": false,
     "tableResultSettingsMap": {},
     "title": ""
    }
   },
   "outputs": [
    {
     "output_type": "display_data",
     "data": {
      "text/plain": [
       "\u001B[0;31m---------------------------------------------------------------------------\u001B[0m\n",
       "\u001B[0;31mAnalysisException\u001B[0m                         Traceback (most recent call last)\n",
       "File \u001B[0;32m<command-1153991937732116>:1\u001B[0m\n",
       "\u001B[0;32m----> 1\u001B[0m \u001B[43mdf\u001B[49m\u001B[38;5;241;43m.\u001B[39;49m\u001B[43mselect\u001B[49m\u001B[43m(\u001B[49m\u001B[38;5;124;43m'\u001B[39;49m\u001B[38;5;124;43maddress.city\u001B[39;49m\u001B[38;5;124;43m'\u001B[39;49m\u001B[43m,\u001B[49m\u001B[38;5;124;43m'\u001B[39;49m\u001B[38;5;124;43maddress.zipcode\u001B[39;49m\u001B[38;5;124;43m'\u001B[39;49m\u001B[43m,\u001B[49m\u001B[43mexplode\u001B[49m\u001B[43m(\u001B[49m\u001B[43mcol\u001B[49m\u001B[43m(\u001B[49m\u001B[38;5;124;43m'\u001B[39;49m\u001B[38;5;124;43mcontacts\u001B[39;49m\u001B[38;5;124;43m'\u001B[39;49m\u001B[43m)\u001B[49m\u001B[43m)\u001B[49m\u001B[38;5;241;43m.\u001B[39;49m\u001B[43malias\u001B[49m\u001B[43m(\u001B[49m\u001B[38;5;124;43m'\u001B[39;49m\u001B[38;5;124;43mnew_contacts\u001B[39;49m\u001B[38;5;124;43m'\u001B[39;49m\u001B[43m)\u001B[49m\u001B[43m,\u001B[49m\u001B[43m \u001B[49m\u001B[38;5;124;43m'\u001B[39;49m\u001B[38;5;124;43mnew_contacts.details.personal\u001B[39;49m\u001B[38;5;124;43m'\u001B[39;49m\n",
       "\u001B[1;32m      2\u001B[0m \u001B[43m          \u001B[49m\u001B[43m,\u001B[49m\u001B[38;5;124;43m'\u001B[39;49m\u001B[38;5;124;43mnew_contacts.details.work\u001B[39;49m\u001B[38;5;124;43m'\u001B[39;49m\u001B[43m,\u001B[49m\u001B[38;5;124;43m'\u001B[39;49m\u001B[38;5;124;43mnew_contacts.type\u001B[39;49m\u001B[38;5;124;43m'\u001B[39;49m\u001B[43m,\u001B[49m\u001B[38;5;124;43m'\u001B[39;49m\u001B[38;5;124;43mid\u001B[39;49m\u001B[38;5;124;43m'\u001B[39;49m\u001B[43m,\u001B[49m\u001B[38;5;124;43m'\u001B[39;49m\u001B[38;5;124;43mname\u001B[39;49m\u001B[38;5;124;43m'\u001B[39;49m\u001B[43m,\u001B[49m\u001B[43m \u001B[49m\n",
       "\u001B[1;32m      3\u001B[0m \u001B[43m          \u001B[49m\u001B[43mexplode\u001B[49m\u001B[43m(\u001B[49m\u001B[43mcol\u001B[49m\u001B[43m(\u001B[49m\u001B[38;5;124;43m'\u001B[39;49m\u001B[38;5;124;43mprojects\u001B[39;49m\u001B[38;5;124;43m'\u001B[39;49m\u001B[43m)\u001B[49m\u001B[43m)\u001B[49m\u001B[38;5;241;43m.\u001B[39;49m\u001B[43malias\u001B[49m\u001B[43m(\u001B[49m\u001B[38;5;124;43m'\u001B[39;49m\u001B[38;5;124;43mnew_projects\u001B[39;49m\u001B[38;5;124;43m'\u001B[39;49m\u001B[43m)\u001B[49m\u001B[43m)\u001B[49m\u001B[38;5;241m.\u001B[39mdisplay()\n",
       "\n",
       "File \u001B[0;32m/databricks/spark/python/pyspark/instrumentation_utils.py:48\u001B[0m, in \u001B[0;36m_wrap_function.<locals>.wrapper\u001B[0;34m(*args, **kwargs)\u001B[0m\n",
       "\u001B[1;32m     46\u001B[0m start \u001B[38;5;241m=\u001B[39m time\u001B[38;5;241m.\u001B[39mperf_counter()\n",
       "\u001B[1;32m     47\u001B[0m \u001B[38;5;28;01mtry\u001B[39;00m:\n",
       "\u001B[0;32m---> 48\u001B[0m     res \u001B[38;5;241m=\u001B[39m \u001B[43mfunc\u001B[49m\u001B[43m(\u001B[49m\u001B[38;5;241;43m*\u001B[39;49m\u001B[43margs\u001B[49m\u001B[43m,\u001B[49m\u001B[43m \u001B[49m\u001B[38;5;241;43m*\u001B[39;49m\u001B[38;5;241;43m*\u001B[39;49m\u001B[43mkwargs\u001B[49m\u001B[43m)\u001B[49m\n",
       "\u001B[1;32m     49\u001B[0m     logger\u001B[38;5;241m.\u001B[39mlog_success(\n",
       "\u001B[1;32m     50\u001B[0m         module_name, class_name, function_name, time\u001B[38;5;241m.\u001B[39mperf_counter() \u001B[38;5;241m-\u001B[39m start, signature\n",
       "\u001B[1;32m     51\u001B[0m     )\n",
       "\u001B[1;32m     52\u001B[0m     \u001B[38;5;28;01mreturn\u001B[39;00m res\n",
       "\n",
       "File \u001B[0;32m/databricks/spark/python/pyspark/sql/dataframe.py:3023\u001B[0m, in \u001B[0;36mDataFrame.select\u001B[0;34m(self, *cols)\u001B[0m\n",
       "\u001B[1;32m   2978\u001B[0m \u001B[38;5;28;01mdef\u001B[39;00m \u001B[38;5;21mselect\u001B[39m(\u001B[38;5;28mself\u001B[39m, \u001B[38;5;241m*\u001B[39mcols: \u001B[38;5;124m\"\u001B[39m\u001B[38;5;124mColumnOrName\u001B[39m\u001B[38;5;124m\"\u001B[39m) \u001B[38;5;241m-\u001B[39m\u001B[38;5;241m>\u001B[39m \u001B[38;5;124m\"\u001B[39m\u001B[38;5;124mDataFrame\u001B[39m\u001B[38;5;124m\"\u001B[39m:  \u001B[38;5;66;03m# type: ignore[misc]\u001B[39;00m\n",
       "\u001B[1;32m   2979\u001B[0m     \u001B[38;5;124;03m\"\"\"Projects a set of expressions and returns a new :class:`DataFrame`.\u001B[39;00m\n",
       "\u001B[1;32m   2980\u001B[0m \n",
       "\u001B[1;32m   2981\u001B[0m \u001B[38;5;124;03m    .. versionadded:: 1.3.0\u001B[39;00m\n",
       "\u001B[0;32m   (...)\u001B[0m\n",
       "\u001B[1;32m   3021\u001B[0m \u001B[38;5;124;03m    +-----+---+\u001B[39;00m\n",
       "\u001B[1;32m   3022\u001B[0m \u001B[38;5;124;03m    \"\"\"\u001B[39;00m\n",
       "\u001B[0;32m-> 3023\u001B[0m     jdf \u001B[38;5;241m=\u001B[39m \u001B[38;5;28;43mself\u001B[39;49m\u001B[38;5;241;43m.\u001B[39;49m\u001B[43m_jdf\u001B[49m\u001B[38;5;241;43m.\u001B[39;49m\u001B[43mselect\u001B[49m\u001B[43m(\u001B[49m\u001B[38;5;28;43mself\u001B[39;49m\u001B[38;5;241;43m.\u001B[39;49m\u001B[43m_jcols\u001B[49m\u001B[43m(\u001B[49m\u001B[38;5;241;43m*\u001B[39;49m\u001B[43mcols\u001B[49m\u001B[43m)\u001B[49m\u001B[43m)\u001B[49m\n",
       "\u001B[1;32m   3024\u001B[0m     \u001B[38;5;28;01mreturn\u001B[39;00m DataFrame(jdf, \u001B[38;5;28mself\u001B[39m\u001B[38;5;241m.\u001B[39msparkSession)\n",
       "\n",
       "File \u001B[0;32m/databricks/spark/python/lib/py4j-0.10.9.5-src.zip/py4j/java_gateway.py:1321\u001B[0m, in \u001B[0;36mJavaMember.__call__\u001B[0;34m(self, *args)\u001B[0m\n",
       "\u001B[1;32m   1315\u001B[0m command \u001B[38;5;241m=\u001B[39m proto\u001B[38;5;241m.\u001B[39mCALL_COMMAND_NAME \u001B[38;5;241m+\u001B[39m\\\n",
       "\u001B[1;32m   1316\u001B[0m     \u001B[38;5;28mself\u001B[39m\u001B[38;5;241m.\u001B[39mcommand_header \u001B[38;5;241m+\u001B[39m\\\n",
       "\u001B[1;32m   1317\u001B[0m     args_command \u001B[38;5;241m+\u001B[39m\\\n",
       "\u001B[1;32m   1318\u001B[0m     proto\u001B[38;5;241m.\u001B[39mEND_COMMAND_PART\n",
       "\u001B[1;32m   1320\u001B[0m answer \u001B[38;5;241m=\u001B[39m \u001B[38;5;28mself\u001B[39m\u001B[38;5;241m.\u001B[39mgateway_client\u001B[38;5;241m.\u001B[39msend_command(command)\n",
       "\u001B[0;32m-> 1321\u001B[0m return_value \u001B[38;5;241m=\u001B[39m \u001B[43mget_return_value\u001B[49m\u001B[43m(\u001B[49m\n",
       "\u001B[1;32m   1322\u001B[0m \u001B[43m    \u001B[49m\u001B[43manswer\u001B[49m\u001B[43m,\u001B[49m\u001B[43m \u001B[49m\u001B[38;5;28;43mself\u001B[39;49m\u001B[38;5;241;43m.\u001B[39;49m\u001B[43mgateway_client\u001B[49m\u001B[43m,\u001B[49m\u001B[43m \u001B[49m\u001B[38;5;28;43mself\u001B[39;49m\u001B[38;5;241;43m.\u001B[39;49m\u001B[43mtarget_id\u001B[49m\u001B[43m,\u001B[49m\u001B[43m \u001B[49m\u001B[38;5;28;43mself\u001B[39;49m\u001B[38;5;241;43m.\u001B[39;49m\u001B[43mname\u001B[49m\u001B[43m)\u001B[49m\n",
       "\u001B[1;32m   1324\u001B[0m \u001B[38;5;28;01mfor\u001B[39;00m temp_arg \u001B[38;5;129;01min\u001B[39;00m temp_args:\n",
       "\u001B[1;32m   1325\u001B[0m     temp_arg\u001B[38;5;241m.\u001B[39m_detach()\n",
       "\n",
       "File \u001B[0;32m/databricks/spark/python/pyspark/errors/exceptions.py:234\u001B[0m, in \u001B[0;36mcapture_sql_exception.<locals>.deco\u001B[0;34m(*a, **kw)\u001B[0m\n",
       "\u001B[1;32m    230\u001B[0m converted \u001B[38;5;241m=\u001B[39m convert_exception(e\u001B[38;5;241m.\u001B[39mjava_exception)\n",
       "\u001B[1;32m    231\u001B[0m \u001B[38;5;28;01mif\u001B[39;00m \u001B[38;5;129;01mnot\u001B[39;00m \u001B[38;5;28misinstance\u001B[39m(converted, UnknownException):\n",
       "\u001B[1;32m    232\u001B[0m     \u001B[38;5;66;03m# Hide where the exception came from that shows a non-Pythonic\u001B[39;00m\n",
       "\u001B[1;32m    233\u001B[0m     \u001B[38;5;66;03m# JVM exception message.\u001B[39;00m\n",
       "\u001B[0;32m--> 234\u001B[0m     \u001B[38;5;28;01mraise\u001B[39;00m converted \u001B[38;5;28;01mfrom\u001B[39;00m \u001B[38;5;28mNone\u001B[39m\n",
       "\u001B[1;32m    235\u001B[0m \u001B[38;5;28;01melse\u001B[39;00m:\n",
       "\u001B[1;32m    236\u001B[0m     \u001B[38;5;28;01mraise\u001B[39;00m\n",
       "\n",
       "\u001B[0;31mAnalysisException\u001B[0m: [UNSUPPORTED_GENERATOR.MULTI_GENERATOR] The generator is not supported: only one generator allowed per SELECT clause but found 2: \"explode(contacts)\", \"explode(projects)\"."
      ]
     },
     "metadata": {
      "application/vnd.databricks.v1+output": {
       "arguments": {},
       "data": "\u001B[0;31m---------------------------------------------------------------------------\u001B[0m\n\u001B[0;31mAnalysisException\u001B[0m                         Traceback (most recent call last)\nFile \u001B[0;32m<command-1153991937732116>:1\u001B[0m\n\u001B[0;32m----> 1\u001B[0m \u001B[43mdf\u001B[49m\u001B[38;5;241;43m.\u001B[39;49m\u001B[43mselect\u001B[49m\u001B[43m(\u001B[49m\u001B[38;5;124;43m'\u001B[39;49m\u001B[38;5;124;43maddress.city\u001B[39;49m\u001B[38;5;124;43m'\u001B[39;49m\u001B[43m,\u001B[49m\u001B[38;5;124;43m'\u001B[39;49m\u001B[38;5;124;43maddress.zipcode\u001B[39;49m\u001B[38;5;124;43m'\u001B[39;49m\u001B[43m,\u001B[49m\u001B[43mexplode\u001B[49m\u001B[43m(\u001B[49m\u001B[43mcol\u001B[49m\u001B[43m(\u001B[49m\u001B[38;5;124;43m'\u001B[39;49m\u001B[38;5;124;43mcontacts\u001B[39;49m\u001B[38;5;124;43m'\u001B[39;49m\u001B[43m)\u001B[49m\u001B[43m)\u001B[49m\u001B[38;5;241;43m.\u001B[39;49m\u001B[43malias\u001B[49m\u001B[43m(\u001B[49m\u001B[38;5;124;43m'\u001B[39;49m\u001B[38;5;124;43mnew_contacts\u001B[39;49m\u001B[38;5;124;43m'\u001B[39;49m\u001B[43m)\u001B[49m\u001B[43m,\u001B[49m\u001B[43m \u001B[49m\u001B[38;5;124;43m'\u001B[39;49m\u001B[38;5;124;43mnew_contacts.details.personal\u001B[39;49m\u001B[38;5;124;43m'\u001B[39;49m\n\u001B[1;32m      2\u001B[0m \u001B[43m          \u001B[49m\u001B[43m,\u001B[49m\u001B[38;5;124;43m'\u001B[39;49m\u001B[38;5;124;43mnew_contacts.details.work\u001B[39;49m\u001B[38;5;124;43m'\u001B[39;49m\u001B[43m,\u001B[49m\u001B[38;5;124;43m'\u001B[39;49m\u001B[38;5;124;43mnew_contacts.type\u001B[39;49m\u001B[38;5;124;43m'\u001B[39;49m\u001B[43m,\u001B[49m\u001B[38;5;124;43m'\u001B[39;49m\u001B[38;5;124;43mid\u001B[39;49m\u001B[38;5;124;43m'\u001B[39;49m\u001B[43m,\u001B[49m\u001B[38;5;124;43m'\u001B[39;49m\u001B[38;5;124;43mname\u001B[39;49m\u001B[38;5;124;43m'\u001B[39;49m\u001B[43m,\u001B[49m\u001B[43m \u001B[49m\n\u001B[1;32m      3\u001B[0m \u001B[43m          \u001B[49m\u001B[43mexplode\u001B[49m\u001B[43m(\u001B[49m\u001B[43mcol\u001B[49m\u001B[43m(\u001B[49m\u001B[38;5;124;43m'\u001B[39;49m\u001B[38;5;124;43mprojects\u001B[39;49m\u001B[38;5;124;43m'\u001B[39;49m\u001B[43m)\u001B[49m\u001B[43m)\u001B[49m\u001B[38;5;241;43m.\u001B[39;49m\u001B[43malias\u001B[49m\u001B[43m(\u001B[49m\u001B[38;5;124;43m'\u001B[39;49m\u001B[38;5;124;43mnew_projects\u001B[39;49m\u001B[38;5;124;43m'\u001B[39;49m\u001B[43m)\u001B[49m\u001B[43m)\u001B[49m\u001B[38;5;241m.\u001B[39mdisplay()\n\nFile \u001B[0;32m/databricks/spark/python/pyspark/instrumentation_utils.py:48\u001B[0m, in \u001B[0;36m_wrap_function.<locals>.wrapper\u001B[0;34m(*args, **kwargs)\u001B[0m\n\u001B[1;32m     46\u001B[0m start \u001B[38;5;241m=\u001B[39m time\u001B[38;5;241m.\u001B[39mperf_counter()\n\u001B[1;32m     47\u001B[0m \u001B[38;5;28;01mtry\u001B[39;00m:\n\u001B[0;32m---> 48\u001B[0m     res \u001B[38;5;241m=\u001B[39m \u001B[43mfunc\u001B[49m\u001B[43m(\u001B[49m\u001B[38;5;241;43m*\u001B[39;49m\u001B[43margs\u001B[49m\u001B[43m,\u001B[49m\u001B[43m \u001B[49m\u001B[38;5;241;43m*\u001B[39;49m\u001B[38;5;241;43m*\u001B[39;49m\u001B[43mkwargs\u001B[49m\u001B[43m)\u001B[49m\n\u001B[1;32m     49\u001B[0m     logger\u001B[38;5;241m.\u001B[39mlog_success(\n\u001B[1;32m     50\u001B[0m         module_name, class_name, function_name, time\u001B[38;5;241m.\u001B[39mperf_counter() \u001B[38;5;241m-\u001B[39m start, signature\n\u001B[1;32m     51\u001B[0m     )\n\u001B[1;32m     52\u001B[0m     \u001B[38;5;28;01mreturn\u001B[39;00m res\n\nFile \u001B[0;32m/databricks/spark/python/pyspark/sql/dataframe.py:3023\u001B[0m, in \u001B[0;36mDataFrame.select\u001B[0;34m(self, *cols)\u001B[0m\n\u001B[1;32m   2978\u001B[0m \u001B[38;5;28;01mdef\u001B[39;00m \u001B[38;5;21mselect\u001B[39m(\u001B[38;5;28mself\u001B[39m, \u001B[38;5;241m*\u001B[39mcols: \u001B[38;5;124m\"\u001B[39m\u001B[38;5;124mColumnOrName\u001B[39m\u001B[38;5;124m\"\u001B[39m) \u001B[38;5;241m-\u001B[39m\u001B[38;5;241m>\u001B[39m \u001B[38;5;124m\"\u001B[39m\u001B[38;5;124mDataFrame\u001B[39m\u001B[38;5;124m\"\u001B[39m:  \u001B[38;5;66;03m# type: ignore[misc]\u001B[39;00m\n\u001B[1;32m   2979\u001B[0m     \u001B[38;5;124;03m\"\"\"Projects a set of expressions and returns a new :class:`DataFrame`.\u001B[39;00m\n\u001B[1;32m   2980\u001B[0m \n\u001B[1;32m   2981\u001B[0m \u001B[38;5;124;03m    .. versionadded:: 1.3.0\u001B[39;00m\n\u001B[0;32m   (...)\u001B[0m\n\u001B[1;32m   3021\u001B[0m \u001B[38;5;124;03m    +-----+---+\u001B[39;00m\n\u001B[1;32m   3022\u001B[0m \u001B[38;5;124;03m    \"\"\"\u001B[39;00m\n\u001B[0;32m-> 3023\u001B[0m     jdf \u001B[38;5;241m=\u001B[39m \u001B[38;5;28;43mself\u001B[39;49m\u001B[38;5;241;43m.\u001B[39;49m\u001B[43m_jdf\u001B[49m\u001B[38;5;241;43m.\u001B[39;49m\u001B[43mselect\u001B[49m\u001B[43m(\u001B[49m\u001B[38;5;28;43mself\u001B[39;49m\u001B[38;5;241;43m.\u001B[39;49m\u001B[43m_jcols\u001B[49m\u001B[43m(\u001B[49m\u001B[38;5;241;43m*\u001B[39;49m\u001B[43mcols\u001B[49m\u001B[43m)\u001B[49m\u001B[43m)\u001B[49m\n\u001B[1;32m   3024\u001B[0m     \u001B[38;5;28;01mreturn\u001B[39;00m DataFrame(jdf, \u001B[38;5;28mself\u001B[39m\u001B[38;5;241m.\u001B[39msparkSession)\n\nFile \u001B[0;32m/databricks/spark/python/lib/py4j-0.10.9.5-src.zip/py4j/java_gateway.py:1321\u001B[0m, in \u001B[0;36mJavaMember.__call__\u001B[0;34m(self, *args)\u001B[0m\n\u001B[1;32m   1315\u001B[0m command \u001B[38;5;241m=\u001B[39m proto\u001B[38;5;241m.\u001B[39mCALL_COMMAND_NAME \u001B[38;5;241m+\u001B[39m\\\n\u001B[1;32m   1316\u001B[0m     \u001B[38;5;28mself\u001B[39m\u001B[38;5;241m.\u001B[39mcommand_header \u001B[38;5;241m+\u001B[39m\\\n\u001B[1;32m   1317\u001B[0m     args_command \u001B[38;5;241m+\u001B[39m\\\n\u001B[1;32m   1318\u001B[0m     proto\u001B[38;5;241m.\u001B[39mEND_COMMAND_PART\n\u001B[1;32m   1320\u001B[0m answer \u001B[38;5;241m=\u001B[39m \u001B[38;5;28mself\u001B[39m\u001B[38;5;241m.\u001B[39mgateway_client\u001B[38;5;241m.\u001B[39msend_command(command)\n\u001B[0;32m-> 1321\u001B[0m return_value \u001B[38;5;241m=\u001B[39m \u001B[43mget_return_value\u001B[49m\u001B[43m(\u001B[49m\n\u001B[1;32m   1322\u001B[0m \u001B[43m    \u001B[49m\u001B[43manswer\u001B[49m\u001B[43m,\u001B[49m\u001B[43m \u001B[49m\u001B[38;5;28;43mself\u001B[39;49m\u001B[38;5;241;43m.\u001B[39;49m\u001B[43mgateway_client\u001B[49m\u001B[43m,\u001B[49m\u001B[43m \u001B[49m\u001B[38;5;28;43mself\u001B[39;49m\u001B[38;5;241;43m.\u001B[39;49m\u001B[43mtarget_id\u001B[49m\u001B[43m,\u001B[49m\u001B[43m \u001B[49m\u001B[38;5;28;43mself\u001B[39;49m\u001B[38;5;241;43m.\u001B[39;49m\u001B[43mname\u001B[49m\u001B[43m)\u001B[49m\n\u001B[1;32m   1324\u001B[0m \u001B[38;5;28;01mfor\u001B[39;00m temp_arg \u001B[38;5;129;01min\u001B[39;00m temp_args:\n\u001B[1;32m   1325\u001B[0m     temp_arg\u001B[38;5;241m.\u001B[39m_detach()\n\nFile \u001B[0;32m/databricks/spark/python/pyspark/errors/exceptions.py:234\u001B[0m, in \u001B[0;36mcapture_sql_exception.<locals>.deco\u001B[0;34m(*a, **kw)\u001B[0m\n\u001B[1;32m    230\u001B[0m converted \u001B[38;5;241m=\u001B[39m convert_exception(e\u001B[38;5;241m.\u001B[39mjava_exception)\n\u001B[1;32m    231\u001B[0m \u001B[38;5;28;01mif\u001B[39;00m \u001B[38;5;129;01mnot\u001B[39;00m \u001B[38;5;28misinstance\u001B[39m(converted, UnknownException):\n\u001B[1;32m    232\u001B[0m     \u001B[38;5;66;03m# Hide where the exception came from that shows a non-Pythonic\u001B[39;00m\n\u001B[1;32m    233\u001B[0m     \u001B[38;5;66;03m# JVM exception message.\u001B[39;00m\n\u001B[0;32m--> 234\u001B[0m     \u001B[38;5;28;01mraise\u001B[39;00m converted \u001B[38;5;28;01mfrom\u001B[39;00m \u001B[38;5;28mNone\u001B[39m\n\u001B[1;32m    235\u001B[0m \u001B[38;5;28;01melse\u001B[39;00m:\n\u001B[1;32m    236\u001B[0m     \u001B[38;5;28;01mraise\u001B[39;00m\n\n\u001B[0;31mAnalysisException\u001B[0m: [UNSUPPORTED_GENERATOR.MULTI_GENERATOR] The generator is not supported: only one generator allowed per SELECT clause but found 2: \"explode(contacts)\", \"explode(projects)\".",
       "errorSummary": "<span class='ansi-red-fg'>AnalysisException</span>: [UNSUPPORTED_GENERATOR.MULTI_GENERATOR] The generator is not supported: only one generator allowed per SELECT clause but found 2: \"explode(contacts)\", \"explode(projects)\".",
       "errorTraceType": "ansi",
       "metadata": {},
       "type": "ipynbError"
      }
     },
     "output_type": "display_data"
    }
   ],
   "source": [
    "df.select('address.city','address.zipcode',explode(col('contacts')).alias('new_contacts'), 'new_contacts.details.personal'\n",
    "          ,'new_contacts.details.work','new_contacts.type','id','name', \n",
    "          explode(col('projects')).alias('new_projects')).display() # multiple explode not supported in databricks. solution is to have another dataframe"
   ]
  },
  {
   "cell_type": "code",
   "execution_count": 0,
   "metadata": {
    "application/vnd.databricks.v1+cell": {
     "cellMetadata": {
      "byteLimit": 2048000,
      "rowLimit": 10000
     },
     "inputWidgets": {},
     "nuid": "eb3ae8db-b4cb-443f-87e8-ef086eb3a62b",
     "showTitle": false,
     "tableResultSettingsMap": {},
     "title": ""
    }
   },
   "outputs": [],
   "source": [
    "df_contacts_final = df.select('address.city','address.zipcode',explode(col('contacts')).alias('new_contacts'), 'new_contacts.details.personal'\n",
    "          ,'new_contacts.details.work','new_contacts.type','id','name','projects','skills')"
   ]
  },
  {
   "cell_type": "code",
   "execution_count": 0,
   "metadata": {
    "application/vnd.databricks.v1+cell": {
     "cellMetadata": {
      "byteLimit": 2048000,
      "rowLimit": 10000
     },
     "inputWidgets": {},
     "nuid": "69be527b-f173-4784-81d2-518520492429",
     "showTitle": false,
     "tableResultSettingsMap": {},
     "title": ""
    }
   },
   "outputs": [
    {
     "output_type": "display_data",
     "data": {
      "text/html": [
       "<style scoped>\n",
       "  .table-result-container {\n",
       "    max-height: 300px;\n",
       "    overflow: auto;\n",
       "  }\n",
       "  table, th, td {\n",
       "    border: 1px solid black;\n",
       "    border-collapse: collapse;\n",
       "  }\n",
       "  th, td {\n",
       "    padding: 5px;\n",
       "  }\n",
       "  th {\n",
       "    text-align: left;\n",
       "  }\n",
       "</style><div class='table-result-container'><table class='table-result'><thead style='background-color: white'><tr><th>city</th><th>zipcode</th><th>new_contacts</th><th>personal</th><th>work</th><th>type</th><th>id</th><th>name</th><th>projects</th><th>skills</th></tr></thead><tbody><tr><td>New York</td><td>10001</td><td>List(List(alice@gmail.com, alice@company.com), email)</td><td>alice@gmail.com</td><td>alice@company.com</td><td>email</td><td>1</td><td>Alice</td><td>List(List(List(List(completed, ETL), List(in-progress, Data Cleaning)), Project A, 2022), List(List(List(not started, ML Model)), Project B, 2023))</td><td>List(Python, Spark, SQL)</td></tr><tr><td>New York</td><td>10001</td><td>List(List(123-456-7890, 987-654-3210), phone)</td><td>123-456-7890</td><td>987-654-3210</td><td>phone</td><td>1</td><td>Alice</td><td>List(List(List(List(completed, ETL), List(in-progress, Data Cleaning)), Project A, 2022), List(List(List(not started, ML Model)), Project B, 2023))</td><td>List(Python, Spark, SQL)</td></tr><tr><td>San Francisco</td><td>94105</td><td>List(List(bob@gmail.com, bob@company.com), email)</td><td>bob@gmail.com</td><td>bob@company.com</td><td>email</td><td>2</td><td>Bob</td><td>List(List(List(List(completed, Data Analysis)), Project X, 2021))</td><td>List(Java, Scala)</td></tr></tbody></table></div>"
      ]
     },
     "metadata": {
      "application/vnd.databricks.v1+output": {
       "addedWidgets": {},
       "aggData": [],
       "aggError": "",
       "aggOverflow": false,
       "aggSchema": [],
       "aggSeriesLimitReached": false,
       "aggType": "",
       "arguments": {},
       "columnCustomDisplayInfos": {},
       "data": [
        [
         "New York",
         "10001",
         [
          [
           "alice@gmail.com",
           "alice@company.com"
          ],
          "email"
         ],
         "alice@gmail.com",
         "alice@company.com",
         "email",
         1,
         "Alice",
         [
          [
           [
            [
             "completed",
             "ETL"
            ],
            [
             "in-progress",
             "Data Cleaning"
            ]
           ],
           "Project A",
           2022
          ],
          [
           [
            [
             "not started",
             "ML Model"
            ]
           ],
           "Project B",
           2023
          ]
         ],
         [
          "Python",
          "Spark",
          "SQL"
         ]
        ],
        [
         "New York",
         "10001",
         [
          [
           "123-456-7890",
           "987-654-3210"
          ],
          "phone"
         ],
         "123-456-7890",
         "987-654-3210",
         "phone",
         1,
         "Alice",
         [
          [
           [
            [
             "completed",
             "ETL"
            ],
            [
             "in-progress",
             "Data Cleaning"
            ]
           ],
           "Project A",
           2022
          ],
          [
           [
            [
             "not started",
             "ML Model"
            ]
           ],
           "Project B",
           2023
          ]
         ],
         [
          "Python",
          "Spark",
          "SQL"
         ]
        ],
        [
         "San Francisco",
         "94105",
         [
          [
           "bob@gmail.com",
           "bob@company.com"
          ],
          "email"
         ],
         "bob@gmail.com",
         "bob@company.com",
         "email",
         2,
         "Bob",
         [
          [
           [
            [
             "completed",
             "Data Analysis"
            ]
           ],
           "Project X",
           2021
          ]
         ],
         [
          "Java",
          "Scala"
         ]
        ]
       ],
       "datasetInfos": [],
       "dbfsResultPath": null,
       "isJsonSchema": true,
       "metadata": {},
       "overflow": false,
       "plotOptions": {
        "customPlotOptions": {},
        "displayType": "table",
        "pivotAggregation": null,
        "pivotColumns": null,
        "xColumns": null,
        "yColumns": null
       },
       "removedWidgets": [],
       "schema": [
        {
         "metadata": "{}",
         "name": "city",
         "type": "\"string\""
        },
        {
         "metadata": "{}",
         "name": "zipcode",
         "type": "\"string\""
        },
        {
         "metadata": "{}",
         "name": "new_contacts",
         "type": "{\"type\":\"struct\",\"fields\":[{\"name\":\"details\",\"type\":{\"type\":\"struct\",\"fields\":[{\"name\":\"personal\",\"type\":\"string\",\"nullable\":true,\"metadata\":{}},{\"name\":\"work\",\"type\":\"string\",\"nullable\":true,\"metadata\":{}}]},\"nullable\":true,\"metadata\":{}},{\"name\":\"type\",\"type\":\"string\",\"nullable\":true,\"metadata\":{}}]}"
        },
        {
         "metadata": "{}",
         "name": "personal",
         "type": "\"string\""
        },
        {
         "metadata": "{}",
         "name": "work",
         "type": "\"string\""
        },
        {
         "metadata": "{}",
         "name": "type",
         "type": "\"string\""
        },
        {
         "metadata": "{}",
         "name": "id",
         "type": "\"long\""
        },
        {
         "metadata": "{}",
         "name": "name",
         "type": "\"string\""
        },
        {
         "metadata": "{}",
         "name": "projects",
         "type": "{\"type\":\"array\",\"elementType\":{\"type\":\"struct\",\"fields\":[{\"name\":\"tasks\",\"type\":{\"type\":\"array\",\"elementType\":{\"type\":\"struct\",\"fields\":[{\"name\":\"status\",\"type\":\"string\",\"nullable\":true,\"metadata\":{}},{\"name\":\"task_name\",\"type\":\"string\",\"nullable\":true,\"metadata\":{}}]},\"containsNull\":true},\"nullable\":true,\"metadata\":{}},{\"name\":\"title\",\"type\":\"string\",\"nullable\":true,\"metadata\":{}},{\"name\":\"year\",\"type\":\"long\",\"nullable\":true,\"metadata\":{}}]},\"containsNull\":true}"
        },
        {
         "metadata": "{}",
         "name": "skills",
         "type": "{\"type\":\"array\",\"elementType\":\"string\",\"containsNull\":true}"
        }
       ],
       "type": "table"
      }
     },
     "output_type": "display_data"
    }
   ],
   "source": [
    "df_contacts_final.display()"
   ]
  },
  {
   "cell_type": "code",
   "execution_count": 0,
   "metadata": {
    "application/vnd.databricks.v1+cell": {
     "cellMetadata": {
      "byteLimit": 2048000,
      "rowLimit": 10000
     },
     "inputWidgets": {},
     "nuid": "ace435cf-85af-4d1c-acf7-95dda10fc588",
     "showTitle": false,
     "tableResultSettingsMap": {},
     "title": ""
    }
   },
   "outputs": [],
   "source": [
    "df_contacts_projects_final = df_contacts_final.select('city','zipcode','new_contacts', 'personal','work','type','id','name',explode(col('projects')).alias('new_projects'),'skills')"
   ]
  },
  {
   "cell_type": "code",
   "execution_count": 0,
   "metadata": {
    "application/vnd.databricks.v1+cell": {
     "cellMetadata": {
      "byteLimit": 2048000,
      "rowLimit": 10000
     },
     "inputWidgets": {},
     "nuid": "96d265c4-ecae-4c35-9dff-afe57864dbb0",
     "showTitle": false,
     "tableResultSettingsMap": {},
     "title": ""
    }
   },
   "outputs": [],
   "source": [
    "df_contacts_projects_tasks_final = df_contacts_projects_final.select('city','zipcode','new_contacts', 'personal','work','type','id','name',\n",
    "                                                                     explode('new_projects.tasks').alias('new_tasks'),'new_tasks.status', 'new_tasks.task_name','skills')"
   ]
  },
  {
   "cell_type": "code",
   "execution_count": 0,
   "metadata": {
    "application/vnd.databricks.v1+cell": {
     "cellMetadata": {
      "byteLimit": 2048000,
      "rowLimit": 10000
     },
     "inputWidgets": {},
     "nuid": "c986a5f4-3538-4bf8-a8ca-5e94a3e02835",
     "showTitle": false,
     "tableResultSettingsMap": {},
     "title": ""
    }
   },
   "outputs": [
    {
     "output_type": "display_data",
     "data": {
      "text/html": [
       "<style scoped>\n",
       "  .table-result-container {\n",
       "    max-height: 300px;\n",
       "    overflow: auto;\n",
       "  }\n",
       "  table, th, td {\n",
       "    border: 1px solid black;\n",
       "    border-collapse: collapse;\n",
       "  }\n",
       "  th, td {\n",
       "    padding: 5px;\n",
       "  }\n",
       "  th {\n",
       "    text-align: left;\n",
       "  }\n",
       "</style><div class='table-result-container'><table class='table-result'><thead style='background-color: white'><tr><th>city</th><th>zipcode</th><th>new_contacts</th><th>personal</th><th>work</th><th>type</th><th>id</th><th>name</th><th>new_tasks</th><th>status</th><th>task_name</th><th>skills</th></tr></thead><tbody><tr><td>New York</td><td>10001</td><td>List(List(alice@gmail.com, alice@company.com), email)</td><td>alice@gmail.com</td><td>alice@company.com</td><td>email</td><td>1</td><td>Alice</td><td>List(completed, ETL)</td><td>completed</td><td>ETL</td><td>List(Python, Spark, SQL)</td></tr><tr><td>New York</td><td>10001</td><td>List(List(alice@gmail.com, alice@company.com), email)</td><td>alice@gmail.com</td><td>alice@company.com</td><td>email</td><td>1</td><td>Alice</td><td>List(in-progress, Data Cleaning)</td><td>in-progress</td><td>Data Cleaning</td><td>List(Python, Spark, SQL)</td></tr><tr><td>New York</td><td>10001</td><td>List(List(alice@gmail.com, alice@company.com), email)</td><td>alice@gmail.com</td><td>alice@company.com</td><td>email</td><td>1</td><td>Alice</td><td>List(not started, ML Model)</td><td>not started</td><td>ML Model</td><td>List(Python, Spark, SQL)</td></tr><tr><td>New York</td><td>10001</td><td>List(List(123-456-7890, 987-654-3210), phone)</td><td>123-456-7890</td><td>987-654-3210</td><td>phone</td><td>1</td><td>Alice</td><td>List(completed, ETL)</td><td>completed</td><td>ETL</td><td>List(Python, Spark, SQL)</td></tr><tr><td>New York</td><td>10001</td><td>List(List(123-456-7890, 987-654-3210), phone)</td><td>123-456-7890</td><td>987-654-3210</td><td>phone</td><td>1</td><td>Alice</td><td>List(in-progress, Data Cleaning)</td><td>in-progress</td><td>Data Cleaning</td><td>List(Python, Spark, SQL)</td></tr><tr><td>New York</td><td>10001</td><td>List(List(123-456-7890, 987-654-3210), phone)</td><td>123-456-7890</td><td>987-654-3210</td><td>phone</td><td>1</td><td>Alice</td><td>List(not started, ML Model)</td><td>not started</td><td>ML Model</td><td>List(Python, Spark, SQL)</td></tr><tr><td>San Francisco</td><td>94105</td><td>List(List(bob@gmail.com, bob@company.com), email)</td><td>bob@gmail.com</td><td>bob@company.com</td><td>email</td><td>2</td><td>Bob</td><td>List(completed, Data Analysis)</td><td>completed</td><td>Data Analysis</td><td>List(Java, Scala)</td></tr></tbody></table></div>"
      ]
     },
     "metadata": {
      "application/vnd.databricks.v1+output": {
       "addedWidgets": {},
       "aggData": [],
       "aggError": "",
       "aggOverflow": false,
       "aggSchema": [],
       "aggSeriesLimitReached": false,
       "aggType": "",
       "arguments": {},
       "columnCustomDisplayInfos": {},
       "data": [
        [
         "New York",
         "10001",
         [
          [
           "alice@gmail.com",
           "alice@company.com"
          ],
          "email"
         ],
         "alice@gmail.com",
         "alice@company.com",
         "email",
         1,
         "Alice",
         [
          "completed",
          "ETL"
         ],
         "completed",
         "ETL",
         [
          "Python",
          "Spark",
          "SQL"
         ]
        ],
        [
         "New York",
         "10001",
         [
          [
           "alice@gmail.com",
           "alice@company.com"
          ],
          "email"
         ],
         "alice@gmail.com",
         "alice@company.com",
         "email",
         1,
         "Alice",
         [
          "in-progress",
          "Data Cleaning"
         ],
         "in-progress",
         "Data Cleaning",
         [
          "Python",
          "Spark",
          "SQL"
         ]
        ],
        [
         "New York",
         "10001",
         [
          [
           "alice@gmail.com",
           "alice@company.com"
          ],
          "email"
         ],
         "alice@gmail.com",
         "alice@company.com",
         "email",
         1,
         "Alice",
         [
          "not started",
          "ML Model"
         ],
         "not started",
         "ML Model",
         [
          "Python",
          "Spark",
          "SQL"
         ]
        ],
        [
         "New York",
         "10001",
         [
          [
           "123-456-7890",
           "987-654-3210"
          ],
          "phone"
         ],
         "123-456-7890",
         "987-654-3210",
         "phone",
         1,
         "Alice",
         [
          "completed",
          "ETL"
         ],
         "completed",
         "ETL",
         [
          "Python",
          "Spark",
          "SQL"
         ]
        ],
        [
         "New York",
         "10001",
         [
          [
           "123-456-7890",
           "987-654-3210"
          ],
          "phone"
         ],
         "123-456-7890",
         "987-654-3210",
         "phone",
         1,
         "Alice",
         [
          "in-progress",
          "Data Cleaning"
         ],
         "in-progress",
         "Data Cleaning",
         [
          "Python",
          "Spark",
          "SQL"
         ]
        ],
        [
         "New York",
         "10001",
         [
          [
           "123-456-7890",
           "987-654-3210"
          ],
          "phone"
         ],
         "123-456-7890",
         "987-654-3210",
         "phone",
         1,
         "Alice",
         [
          "not started",
          "ML Model"
         ],
         "not started",
         "ML Model",
         [
          "Python",
          "Spark",
          "SQL"
         ]
        ],
        [
         "San Francisco",
         "94105",
         [
          [
           "bob@gmail.com",
           "bob@company.com"
          ],
          "email"
         ],
         "bob@gmail.com",
         "bob@company.com",
         "email",
         2,
         "Bob",
         [
          "completed",
          "Data Analysis"
         ],
         "completed",
         "Data Analysis",
         [
          "Java",
          "Scala"
         ]
        ]
       ],
       "datasetInfos": [],
       "dbfsResultPath": null,
       "isJsonSchema": true,
       "metadata": {},
       "overflow": false,
       "plotOptions": {
        "customPlotOptions": {},
        "displayType": "table",
        "pivotAggregation": null,
        "pivotColumns": null,
        "xColumns": null,
        "yColumns": null
       },
       "removedWidgets": [],
       "schema": [
        {
         "metadata": "{}",
         "name": "city",
         "type": "\"string\""
        },
        {
         "metadata": "{}",
         "name": "zipcode",
         "type": "\"string\""
        },
        {
         "metadata": "{}",
         "name": "new_contacts",
         "type": "{\"type\":\"struct\",\"fields\":[{\"name\":\"details\",\"type\":{\"type\":\"struct\",\"fields\":[{\"name\":\"personal\",\"type\":\"string\",\"nullable\":true,\"metadata\":{}},{\"name\":\"work\",\"type\":\"string\",\"nullable\":true,\"metadata\":{}}]},\"nullable\":true,\"metadata\":{}},{\"name\":\"type\",\"type\":\"string\",\"nullable\":true,\"metadata\":{}}]}"
        },
        {
         "metadata": "{}",
         "name": "personal",
         "type": "\"string\""
        },
        {
         "metadata": "{}",
         "name": "work",
         "type": "\"string\""
        },
        {
         "metadata": "{}",
         "name": "type",
         "type": "\"string\""
        },
        {
         "metadata": "{}",
         "name": "id",
         "type": "\"long\""
        },
        {
         "metadata": "{}",
         "name": "name",
         "type": "\"string\""
        },
        {
         "metadata": "{}",
         "name": "new_tasks",
         "type": "{\"type\":\"struct\",\"fields\":[{\"name\":\"status\",\"type\":\"string\",\"nullable\":true,\"metadata\":{}},{\"name\":\"task_name\",\"type\":\"string\",\"nullable\":true,\"metadata\":{}}]}"
        },
        {
         "metadata": "{}",
         "name": "status",
         "type": "\"string\""
        },
        {
         "metadata": "{}",
         "name": "task_name",
         "type": "\"string\""
        },
        {
         "metadata": "{}",
         "name": "skills",
         "type": "{\"type\":\"array\",\"elementType\":\"string\",\"containsNull\":true}"
        }
       ],
       "type": "table"
      }
     },
     "output_type": "display_data"
    }
   ],
   "source": [
    "df_contacts_projects_tasks_final.display()"
   ]
  },
  {
   "cell_type": "code",
   "execution_count": 0,
   "metadata": {
    "application/vnd.databricks.v1+cell": {
     "cellMetadata": {
      "byteLimit": 2048000,
      "rowLimit": 10000
     },
     "inputWidgets": {},
     "nuid": "a437e8f3-6171-4928-a764-261c414d79a2",
     "showTitle": false,
     "tableResultSettingsMap": {},
     "title": ""
    }
   },
   "outputs": [],
   "source": [
    "df_final = df_contacts_projects_tasks_final.select('city','zipcode','new_contacts', 'personal','work','type','id','name',\n",
    "                                        'new_tasks','status', 'task_name',explode('skills').alias('skills')).drop('new_contacts','new_tasks')"
   ]
  },
  {
   "cell_type": "code",
   "execution_count": 0,
   "metadata": {
    "application/vnd.databricks.v1+cell": {
     "cellMetadata": {
      "byteLimit": 2048000,
      "rowLimit": 10000
     },
     "inputWidgets": {},
     "nuid": "a98df611-227f-40a4-ace4-e1d05d59b889",
     "showTitle": false,
     "tableResultSettingsMap": {},
     "title": ""
    }
   },
   "outputs": [
    {
     "output_type": "display_data",
     "data": {
      "text/html": [
       "<style scoped>\n",
       "  .table-result-container {\n",
       "    max-height: 300px;\n",
       "    overflow: auto;\n",
       "  }\n",
       "  table, th, td {\n",
       "    border: 1px solid black;\n",
       "    border-collapse: collapse;\n",
       "  }\n",
       "  th, td {\n",
       "    padding: 5px;\n",
       "  }\n",
       "  th {\n",
       "    text-align: left;\n",
       "  }\n",
       "</style><div class='table-result-container'><table class='table-result'><thead style='background-color: white'><tr><th>city</th><th>zipcode</th><th>personal</th><th>work</th><th>type</th><th>id</th><th>name</th><th>status</th><th>task_name</th><th>skills</th></tr></thead><tbody><tr><td>New York</td><td>10001</td><td>alice@gmail.com</td><td>alice@company.com</td><td>email</td><td>1</td><td>Alice</td><td>completed</td><td>ETL</td><td>Python</td></tr><tr><td>New York</td><td>10001</td><td>alice@gmail.com</td><td>alice@company.com</td><td>email</td><td>1</td><td>Alice</td><td>completed</td><td>ETL</td><td>Spark</td></tr><tr><td>New York</td><td>10001</td><td>alice@gmail.com</td><td>alice@company.com</td><td>email</td><td>1</td><td>Alice</td><td>completed</td><td>ETL</td><td>SQL</td></tr><tr><td>New York</td><td>10001</td><td>alice@gmail.com</td><td>alice@company.com</td><td>email</td><td>1</td><td>Alice</td><td>in-progress</td><td>Data Cleaning</td><td>Python</td></tr><tr><td>New York</td><td>10001</td><td>alice@gmail.com</td><td>alice@company.com</td><td>email</td><td>1</td><td>Alice</td><td>in-progress</td><td>Data Cleaning</td><td>Spark</td></tr><tr><td>New York</td><td>10001</td><td>alice@gmail.com</td><td>alice@company.com</td><td>email</td><td>1</td><td>Alice</td><td>in-progress</td><td>Data Cleaning</td><td>SQL</td></tr><tr><td>New York</td><td>10001</td><td>alice@gmail.com</td><td>alice@company.com</td><td>email</td><td>1</td><td>Alice</td><td>not started</td><td>ML Model</td><td>Python</td></tr><tr><td>New York</td><td>10001</td><td>alice@gmail.com</td><td>alice@company.com</td><td>email</td><td>1</td><td>Alice</td><td>not started</td><td>ML Model</td><td>Spark</td></tr><tr><td>New York</td><td>10001</td><td>alice@gmail.com</td><td>alice@company.com</td><td>email</td><td>1</td><td>Alice</td><td>not started</td><td>ML Model</td><td>SQL</td></tr><tr><td>New York</td><td>10001</td><td>123-456-7890</td><td>987-654-3210</td><td>phone</td><td>1</td><td>Alice</td><td>completed</td><td>ETL</td><td>Python</td></tr><tr><td>New York</td><td>10001</td><td>123-456-7890</td><td>987-654-3210</td><td>phone</td><td>1</td><td>Alice</td><td>completed</td><td>ETL</td><td>Spark</td></tr><tr><td>New York</td><td>10001</td><td>123-456-7890</td><td>987-654-3210</td><td>phone</td><td>1</td><td>Alice</td><td>completed</td><td>ETL</td><td>SQL</td></tr><tr><td>New York</td><td>10001</td><td>123-456-7890</td><td>987-654-3210</td><td>phone</td><td>1</td><td>Alice</td><td>in-progress</td><td>Data Cleaning</td><td>Python</td></tr><tr><td>New York</td><td>10001</td><td>123-456-7890</td><td>987-654-3210</td><td>phone</td><td>1</td><td>Alice</td><td>in-progress</td><td>Data Cleaning</td><td>Spark</td></tr><tr><td>New York</td><td>10001</td><td>123-456-7890</td><td>987-654-3210</td><td>phone</td><td>1</td><td>Alice</td><td>in-progress</td><td>Data Cleaning</td><td>SQL</td></tr><tr><td>New York</td><td>10001</td><td>123-456-7890</td><td>987-654-3210</td><td>phone</td><td>1</td><td>Alice</td><td>not started</td><td>ML Model</td><td>Python</td></tr><tr><td>New York</td><td>10001</td><td>123-456-7890</td><td>987-654-3210</td><td>phone</td><td>1</td><td>Alice</td><td>not started</td><td>ML Model</td><td>Spark</td></tr><tr><td>New York</td><td>10001</td><td>123-456-7890</td><td>987-654-3210</td><td>phone</td><td>1</td><td>Alice</td><td>not started</td><td>ML Model</td><td>SQL</td></tr><tr><td>San Francisco</td><td>94105</td><td>bob@gmail.com</td><td>bob@company.com</td><td>email</td><td>2</td><td>Bob</td><td>completed</td><td>Data Analysis</td><td>Java</td></tr><tr><td>San Francisco</td><td>94105</td><td>bob@gmail.com</td><td>bob@company.com</td><td>email</td><td>2</td><td>Bob</td><td>completed</td><td>Data Analysis</td><td>Scala</td></tr></tbody></table></div>"
      ]
     },
     "metadata": {
      "application/vnd.databricks.v1+output": {
       "addedWidgets": {},
       "aggData": [],
       "aggError": "",
       "aggOverflow": false,
       "aggSchema": [],
       "aggSeriesLimitReached": false,
       "aggType": "",
       "arguments": {},
       "columnCustomDisplayInfos": {},
       "data": [
        [
         "New York",
         "10001",
         "alice@gmail.com",
         "alice@company.com",
         "email",
         1,
         "Alice",
         "completed",
         "ETL",
         "Python"
        ],
        [
         "New York",
         "10001",
         "alice@gmail.com",
         "alice@company.com",
         "email",
         1,
         "Alice",
         "completed",
         "ETL",
         "Spark"
        ],
        [
         "New York",
         "10001",
         "alice@gmail.com",
         "alice@company.com",
         "email",
         1,
         "Alice",
         "completed",
         "ETL",
         "SQL"
        ],
        [
         "New York",
         "10001",
         "alice@gmail.com",
         "alice@company.com",
         "email",
         1,
         "Alice",
         "in-progress",
         "Data Cleaning",
         "Python"
        ],
        [
         "New York",
         "10001",
         "alice@gmail.com",
         "alice@company.com",
         "email",
         1,
         "Alice",
         "in-progress",
         "Data Cleaning",
         "Spark"
        ],
        [
         "New York",
         "10001",
         "alice@gmail.com",
         "alice@company.com",
         "email",
         1,
         "Alice",
         "in-progress",
         "Data Cleaning",
         "SQL"
        ],
        [
         "New York",
         "10001",
         "alice@gmail.com",
         "alice@company.com",
         "email",
         1,
         "Alice",
         "not started",
         "ML Model",
         "Python"
        ],
        [
         "New York",
         "10001",
         "alice@gmail.com",
         "alice@company.com",
         "email",
         1,
         "Alice",
         "not started",
         "ML Model",
         "Spark"
        ],
        [
         "New York",
         "10001",
         "alice@gmail.com",
         "alice@company.com",
         "email",
         1,
         "Alice",
         "not started",
         "ML Model",
         "SQL"
        ],
        [
         "New York",
         "10001",
         "123-456-7890",
         "987-654-3210",
         "phone",
         1,
         "Alice",
         "completed",
         "ETL",
         "Python"
        ],
        [
         "New York",
         "10001",
         "123-456-7890",
         "987-654-3210",
         "phone",
         1,
         "Alice",
         "completed",
         "ETL",
         "Spark"
        ],
        [
         "New York",
         "10001",
         "123-456-7890",
         "987-654-3210",
         "phone",
         1,
         "Alice",
         "completed",
         "ETL",
         "SQL"
        ],
        [
         "New York",
         "10001",
         "123-456-7890",
         "987-654-3210",
         "phone",
         1,
         "Alice",
         "in-progress",
         "Data Cleaning",
         "Python"
        ],
        [
         "New York",
         "10001",
         "123-456-7890",
         "987-654-3210",
         "phone",
         1,
         "Alice",
         "in-progress",
         "Data Cleaning",
         "Spark"
        ],
        [
         "New York",
         "10001",
         "123-456-7890",
         "987-654-3210",
         "phone",
         1,
         "Alice",
         "in-progress",
         "Data Cleaning",
         "SQL"
        ],
        [
         "New York",
         "10001",
         "123-456-7890",
         "987-654-3210",
         "phone",
         1,
         "Alice",
         "not started",
         "ML Model",
         "Python"
        ],
        [
         "New York",
         "10001",
         "123-456-7890",
         "987-654-3210",
         "phone",
         1,
         "Alice",
         "not started",
         "ML Model",
         "Spark"
        ],
        [
         "New York",
         "10001",
         "123-456-7890",
         "987-654-3210",
         "phone",
         1,
         "Alice",
         "not started",
         "ML Model",
         "SQL"
        ],
        [
         "San Francisco",
         "94105",
         "bob@gmail.com",
         "bob@company.com",
         "email",
         2,
         "Bob",
         "completed",
         "Data Analysis",
         "Java"
        ],
        [
         "San Francisco",
         "94105",
         "bob@gmail.com",
         "bob@company.com",
         "email",
         2,
         "Bob",
         "completed",
         "Data Analysis",
         "Scala"
        ]
       ],
       "datasetInfos": [],
       "dbfsResultPath": null,
       "isJsonSchema": true,
       "metadata": {},
       "overflow": false,
       "plotOptions": {
        "customPlotOptions": {},
        "displayType": "table",
        "pivotAggregation": null,
        "pivotColumns": null,
        "xColumns": null,
        "yColumns": null
       },
       "removedWidgets": [],
       "schema": [
        {
         "metadata": "{}",
         "name": "city",
         "type": "\"string\""
        },
        {
         "metadata": "{}",
         "name": "zipcode",
         "type": "\"string\""
        },
        {
         "metadata": "{}",
         "name": "personal",
         "type": "\"string\""
        },
        {
         "metadata": "{}",
         "name": "work",
         "type": "\"string\""
        },
        {
         "metadata": "{}",
         "name": "type",
         "type": "\"string\""
        },
        {
         "metadata": "{}",
         "name": "id",
         "type": "\"long\""
        },
        {
         "metadata": "{}",
         "name": "name",
         "type": "\"string\""
        },
        {
         "metadata": "{}",
         "name": "status",
         "type": "\"string\""
        },
        {
         "metadata": "{}",
         "name": "task_name",
         "type": "\"string\""
        },
        {
         "metadata": "{}",
         "name": "skills",
         "type": "\"string\""
        }
       ],
       "type": "table"
      }
     },
     "output_type": "display_data"
    }
   ],
   "source": [
    "df_final.display()"
   ]
  }
 ],
 "metadata": {
  "application/vnd.databricks.v1+notebook": {
   "computePreferences": null,
   "dashboards": [],
   "environmentMetadata": {
    "base_environment": "",
    "client": "1"
   },
   "language": "python",
   "notebookMetadata": {
    "pythonIndentUnit": 4
   },
   "notebookName": "JSON Handling",
   "widgets": {}
  }
 },
 "nbformat": 4,
 "nbformat_minor": 0
}
